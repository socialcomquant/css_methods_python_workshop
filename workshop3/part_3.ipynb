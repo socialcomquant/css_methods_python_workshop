{
 "cells": [
  {
   "cell_type": "markdown",
   "metadata": {
    "id": "XwZFl2s-dGKW"
   },
   "source": [
    "# Applications of ML: Natural Language Processing"
   ]
  },
  {
   "cell_type": "code",
   "execution_count": null,
   "metadata": {
    "id": "NxO_p6gAdGKd"
   },
   "outputs": [],
   "source": [
    "import matplotlib.pyplot as plt\n",
    "import numpy as np\n",
    "import pandas as pd\n",
    "%matplotlib inline"
   ]
  },
  {
   "cell_type": "markdown",
   "metadata": {
    "id": "TwuBVPbMdGKe"
   },
   "source": [
    "### [Bag of Words](https://en.wikipedia.org/wiki/Bag-of-words_model) / [Vector Space](https://en.wikipedia.org/wiki/Vector_space_model) Representation\n",
    "<img src=\"http://uc-r.github.io/public/images/analytics/feature-engineering/bow-image.png\" width=\"20%\">"
   ]
  },
  {
   "cell_type": "code",
   "execution_count": null,
   "metadata": {
    "id": "I8FTPfl7dGKf"
   },
   "outputs": [],
   "source": [
    "X = [\"it is a puppy and it is extremely cute\",\n",
    "     \"it is a cat.\"]"
   ]
  },
  {
   "cell_type": "code",
   "execution_count": null,
   "metadata": {
    "id": "trGxuS4OdGKf"
   },
   "outputs": [],
   "source": [
    "from sklearn.feature_extraction.text import CountVectorizer\n",
    "\n",
    "vectorizer = CountVectorizer()\n",
    "vectorizer.fit(X)"
   ]
  },
  {
   "cell_type": "code",
   "execution_count": null,
   "metadata": {
    "id": "NpGVKKwfdGKg"
   },
   "outputs": [],
   "source": [
    "X_bag_of_words = vectorizer.transform(X)\n",
    "X_bag_of_words.shape"
   ]
  },
  {
   "cell_type": "code",
   "execution_count": null,
   "metadata": {
    "id": "DHU2XYqzdGKg"
   },
   "outputs": [],
   "source": [
    "X_bag_of_words"
   ]
  },
  {
   "cell_type": "code",
   "execution_count": null,
   "metadata": {
    "id": "6ESYWQbWdGKh"
   },
   "outputs": [],
   "source": [
    "X_bag_of_words.toarray()"
   ]
  },
  {
   "cell_type": "code",
   "execution_count": null,
   "metadata": {
    "id": "3m-vDaM8dGKi"
   },
   "outputs": [],
   "source": [
    "vectorizer.vocabulary_"
   ]
  },
  {
   "cell_type": "markdown",
   "metadata": {
    "id": "AgRq0uVAdGKi"
   },
   "source": [
    "Size of our vocabulary"
   ]
  },
  {
   "cell_type": "code",
   "execution_count": null,
   "metadata": {
    "id": "SOkCzjY5dGKj"
   },
   "outputs": [],
   "source": [
    "len(vectorizer.vocabulary_)"
   ]
  },
  {
   "cell_type": "code",
   "execution_count": null,
   "metadata": {
    "id": "pBwWv0TOdGKj"
   },
   "outputs": [],
   "source": [
    "vectorizer.get_feature_names()"
   ]
  },
  {
   "cell_type": "code",
   "execution_count": null,
   "metadata": {
    "id": "PpeV_S5JdGKj"
   },
   "outputs": [],
   "source": [
    "vectorizer.inverse_transform(X_bag_of_words)"
   ]
  },
  {
   "cell_type": "markdown",
   "metadata": {
    "id": "A_ki8rYQdGKk"
   },
   "source": [
    "## [tf–idf](https://en.wikipedia.org/wiki/Tf–idf) (Excurse)\n",
    "Term Frequency–Inverse Document Frequency is a numerical statistic that is intended to reflect how important a word is to a document in a collection or corpus.\n",
    "tf-idf rescales words that occur in many documents to have less weight (see [here](https://scikit-learn.org/stable/modules/generated/sklearn.feature_extraction.text.TfidfVectorizer.html) for scikit implementation). "
   ]
  },
  {
   "cell_type": "code",
   "execution_count": null,
   "metadata": {
    "id": "cV2lLsj5dGKk"
   },
   "outputs": [],
   "source": [
    "from sklearn.feature_extraction.text import TfidfVectorizer\n",
    "\n",
    "tfidf_vectorizer = TfidfVectorizer()\n",
    "tfidf_vectorizer.fit(X)"
   ]
  },
  {
   "cell_type": "code",
   "execution_count": null,
   "metadata": {
    "id": "cC3RV2T0dGKl"
   },
   "outputs": [],
   "source": [
    "tfidf_vectorizer.transform(X).toarray()"
   ]
  },
  {
   "cell_type": "markdown",
   "metadata": {
    "id": "eVwcXj_ndGKl"
   },
   "source": [
    "## Case Study - Spam Detection"
   ]
  },
  {
   "cell_type": "markdown",
   "metadata": {
    "id": "clR8b2zgdGKl"
   },
   "source": [
    "We load the [SMS Spam Collection Data Set](https://archive.ics.uci.edu/ml/datasets/sms+spam+collection) from our `data` directory\n",
    "\n",
    "and perform a preprocessing to split the data array into two parts:\n",
    "\n",
    "1. `text`: A list of lists, each containing the contents of a document\n",
    "2. `y`: the labels; 1 representing spam and 0 for a non-spam message. "
   ]
  },
  {
   "cell_type": "code",
   "execution_count": null,
   "metadata": {
    "id": "Kpl69GSIdGKm"
   },
   "outputs": [],
   "source": [
    "lines = pd.read_csv (\"https://raw.githubusercontent.com/gesiscss/WDCNLP/main/data/SMSSpamCollection.tsv\", sep='\\t', header=None).values.tolist()"
   ]
  },
  {
   "cell_type": "code",
   "execution_count": null,
   "metadata": {
    "id": "DDuFLdNPdGKm"
   },
   "outputs": [],
   "source": [
    "text = [x[1] for x in lines]\n",
    "y = [int(x[0] == \"spam\") for x in lines]"
   ]
  },
  {
   "cell_type": "markdown",
   "metadata": {
    "id": "O92QWgMpdGKm"
   },
   "source": [
    "## Display the first 5 documents "
   ]
  },
  {
   "cell_type": "code",
   "execution_count": null,
   "metadata": {
    "id": "e41ktD63dGKn"
   },
   "outputs": [],
   "source": [
    "# %load solutions/l3_1.py\n"
   ]
  },
  {
   "cell_type": "markdown",
   "metadata": {
    "id": "5wnX_NQwdGKn"
   },
   "source": [
    "## Display the first 5 labels "
   ]
  },
  {
   "cell_type": "code",
   "execution_count": null,
   "metadata": {
    "id": "ihvl6sLndGKn"
   },
   "outputs": [],
   "source": [
    "# %load solutions/l3_2.py\n"
   ]
  },
  {
   "cell_type": "markdown",
   "metadata": {
    "id": "dYJCSkJ7dGKn"
   },
   "source": [
    "## Compute the number of spam non-spam messages:"
   ]
  },
  {
   "cell_type": "code",
   "execution_count": null,
   "metadata": {
    "id": "kyEZ8WSBdGKn"
   },
   "outputs": [],
   "source": [
    "# %load solutions/l3_3.py\n"
   ]
  },
  {
   "cell_type": "markdown",
   "metadata": {
    "id": "3Dkdcw9sdGKo"
   },
   "source": [
    "## Split the Data into a training and test set"
   ]
  },
  {
   "cell_type": "code",
   "execution_count": null,
   "metadata": {
    "id": "74Sm5bzDdGKo"
   },
   "outputs": [],
   "source": [
    "# %load solutions/l3_4.py\n"
   ]
  },
  {
   "cell_type": "markdown",
   "metadata": {
    "id": "X52_vGPHdGKo"
   },
   "source": [
    "## Use the CountVectorizer to parse the text data into a bag-of-words model"
   ]
  },
  {
   "cell_type": "code",
   "execution_count": null,
   "metadata": {
    "id": "cl5omPnSdGKo"
   },
   "outputs": [],
   "source": [
    "# %load solutions/l3_5.py\n"
   ]
  },
  {
   "cell_type": "markdown",
   "metadata": {
    "id": "ntaW7YOJdGKo"
   },
   "source": [
    "## What is the size of our vocabulary?"
   ]
  },
  {
   "cell_type": "code",
   "execution_count": null,
   "metadata": {
    "id": "V6lYc49kdGKp"
   },
   "outputs": [],
   "source": [
    "# %load solutions/l3_6.py\n"
   ]
  },
  {
   "cell_type": "markdown",
   "metadata": {
    "id": "tHuWj9M0dGKp"
   },
   "source": [
    "## What is the dinensionality of text_train?"
   ]
  },
  {
   "cell_type": "code",
   "execution_count": null,
   "metadata": {
    "id": "zr5AFazkdGKp"
   },
   "outputs": [],
   "source": [
    "# %load solutions/l3_7.py\n"
   ]
  },
  {
   "cell_type": "markdown",
   "metadata": {
    "id": "Un0H3-PfdGKp"
   },
   "source": [
    "## ... and what is the dinensionality of X_test?"
   ]
  },
  {
   "cell_type": "code",
   "execution_count": null,
   "metadata": {
    "id": "B6kWL8pZdGKq"
   },
   "outputs": [],
   "source": [
    "# %load solutions/l3_8.py\n"
   ]
  },
  {
   "cell_type": "markdown",
   "metadata": {
    "id": "ClGI0uOTdGKq"
   },
   "source": [
    "## Train a [LogisticRegression](https://scikit-learn.org/stable/modules/generated/sklearn.linear_model.LogisticRegression.html) model on 'X_train'"
   ]
  },
  {
   "cell_type": "code",
   "execution_count": null,
   "metadata": {
    "id": "aQERbjhIdGKq"
   },
   "outputs": [],
   "source": [
    "# %load solutions/l3_9.py\n"
   ]
  },
  {
   "cell_type": "markdown",
   "metadata": {
    "id": "wYQXmRhudGKq"
   },
   "source": [
    "## Compute the accuracy on the test data"
   ]
  },
  {
   "cell_type": "code",
   "execution_count": null,
   "metadata": {
    "id": "xYN7Xl2gdGKr"
   },
   "outputs": [],
   "source": [
    "# %load solutions/l3_10.py\n"
   ]
  },
  {
   "cell_type": "markdown",
   "metadata": {
    "id": "TU9Ag3AadGKr"
   },
   "source": [
    "Function to visualize coefficients of a linear model."
   ]
  },
  {
   "cell_type": "code",
   "execution_count": null,
   "metadata": {
    "id": "7P5U41dddGKr"
   },
   "outputs": [],
   "source": [
    "def visualize_coefficients(classifier, feature_names, n_top_features=25):\n",
    "    # see http://github.com/amueller/mglearn/blob/cbae37d906261dad173cbc6696dcef69dfd0cbaf/mglearn/tools.py\n",
    "    # and http://github.com/amueller/scipy-2018-sklearn\n",
    "    coef = classifier.coef_.ravel()\n",
    "    positive_coefficients = np.argsort(coef)[-n_top_features:]\n",
    "    negative_coefficients = np.argsort(coef)[:n_top_features]\n",
    "    interesting_coefficients = np.hstack([negative_coefficients, positive_coefficients])\n",
    "    # plot them\n",
    "    plt.figure(figsize=(15, 5))\n",
    "    colors = [\"tab:orange\" if c < 0 else \"tab:blue\" for c in coef[interesting_coefficients]]\n",
    "    plt.bar(np.arange(2 * n_top_features), coef[interesting_coefficients], color=colors)\n",
    "    feature_names = np.array(feature_names)\n",
    "    plt.xticks(np.arange(1, 2 * n_top_features + 1), feature_names[interesting_coefficients], rotation=60, ha=\"right\");"
   ]
  },
  {
   "cell_type": "code",
   "execution_count": null,
   "metadata": {
    "id": "dPD869QJdGKr"
   },
   "outputs": [],
   "source": [
    "visualize_coefficients(clf, vectorizer.get_feature_names(), n_top_features = 10)"
   ]
  },
  {
   "cell_type": "markdown",
   "metadata": {
    "id": "cSfsI1OYdGKs"
   },
   "source": [
    "## Exercise: Only consider words that occure in at least 2 documents\n",
    "\n",
    "Use the [min_df](https://scikit-learn.org/stable/modules/generated/sklearn.feature_extraction.text.CountVectorizer.html) argument in CountVectorizer."
   ]
  },
  {
   "cell_type": "code",
   "execution_count": null,
   "metadata": {
    "id": "tDjHA53CdGKs"
   },
   "outputs": [],
   "source": [
    "# %load solutions/l3_11.py\n"
   ]
  },
  {
   "cell_type": "markdown",
   "metadata": {
    "id": "fZ-_c1rJdGKs"
   },
   "source": [
    "## Exercise: What is the size of our vocabulary?"
   ]
  },
  {
   "cell_type": "code",
   "execution_count": null,
   "metadata": {
    "id": "2hwMWPxfdGKs"
   },
   "outputs": [],
   "source": [
    "# %load solutions/l3_12.py\n"
   ]
  },
  {
   "cell_type": "markdown",
   "metadata": {
    "id": "-T9JKEZddGKs"
   },
   "source": [
    "## Exercise: Comppute the test accuracy using [score](https://scikit-learn.org/stable/modules/generated/sklearn.linear_model.LogisticRegression.html#sklearn.linear_model.LogisticRegression.score)"
   ]
  },
  {
   "cell_type": "code",
   "execution_count": null,
   "metadata": {
    "id": "Mk0KqhTcdGKs"
   },
   "outputs": [],
   "source": [
    "# %load solutions/l3_13.py\n"
   ]
  },
  {
   "cell_type": "markdown",
   "metadata": {
    "id": "cB7C96TjdGKt"
   },
   "source": [
    "## Exercise: Visualize the top 15 coefficients"
   ]
  },
  {
   "cell_type": "code",
   "execution_count": null,
   "metadata": {
    "id": "xPNeCX_zdGKt"
   },
   "outputs": [],
   "source": [
    "# %load solutions/l3_14.py\n"
   ]
  },
  {
   "cell_type": "markdown",
   "metadata": {
    "id": "fbKK0q36dGKt"
   },
   "source": [
    "## Bonus Exercise: Use the [TfidfVectorizer](https://scikit-learn.org/stable/modules/generated/sklearn.feature_extraction.text.TfidfVectorizer.html) and compare your results"
   ]
  },
  {
   "cell_type": "code",
   "execution_count": null,
   "metadata": {
    "id": "j2HePVa5dGKt"
   },
   "outputs": [],
   "source": [
    "# %load solutions/l3_15.py\n"
   ]
  },
  {
   "cell_type": "code",
   "execution_count": null,
   "metadata": {
    "id": "THxxwtyjdGKt"
   },
   "outputs": [],
   "source": []
  },
  {
   "cell_type": "code",
   "execution_count": null,
   "metadata": {},
   "outputs": [],
   "source": []
  }
 ],
 "metadata": {
  "colab": {
   "collapsed_sections": [],
   "name": "4_applications.ipynb",
   "provenance": []
  },
  "kernelspec": {
   "display_name": "Python 3 (ipykernel)",
   "language": "python",
   "name": "python3"
  },
  "language_info": {
   "codemirror_mode": {
    "name": "ipython",
    "version": 3
   },
   "file_extension": ".py",
   "mimetype": "text/x-python",
   "name": "python",
   "nbconvert_exporter": "python",
   "pygments_lexer": "ipython3",
   "version": "3.9.7"
  }
 },
 "nbformat": 4,
 "nbformat_minor": 4
}
