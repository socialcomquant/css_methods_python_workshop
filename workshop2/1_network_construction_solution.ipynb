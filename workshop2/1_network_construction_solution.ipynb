{
 "cells": [
  {
   "cell_type": "markdown",
   "id": "da61be2a",
   "metadata": {},
   "source": [
    "### Workshop series, Koç University, Turkey, 11-12 April 2023"
   ]
  },
  {
   "cell_type": "markdown",
   "id": "b70bc56f",
   "metadata": {},
   "source": [
    "##  [Introduction to Computational Social Science methods with Python](https://socialcomquant.ku.edu.tr/intro-to-css-methods-with-python/)"
   ]
  },
  {
   "cell_type": "markdown",
   "id": "71218328",
   "metadata": {},
   "source": [
    "# Workshop 2: Introduction to network analysis with Python - Part I\n",
    "\n",
    "**Description**: Computational Social Science is often concerned with the traces of human behavior like those left by uses of social media, messaging services, or cell phones. Such digital behavioral data is genuinely relational and can, therefore, be studied using the formal techniques of network analysis. The basic units of networks called nodes can be actors (e.g., users), communicative symbols (e.g., hashtags), or even transactions (e.g., tweets). By focusing on the edges (relations) among nodes, network analysis is capable of creating insights that are not possible by merely doing statistics on the nodes and their attributes. In the workshop, we will give an introduction to how network data should be organized, how networks can be created in Python, and how they can be analyzed on three levels. On the micro level, we will introduce centrality analysis which results in numerical descriptions of nodes. On the meso level, we will introduce community detection, which results in sets of nodes that form groups or clusters. On the macro level, we will introduce measures that describe homophily, assortativity of, the network in its entirety. We will be using network data from the Copenhagen Networks Study, which describes four different types of social relations among students over time. The workshop will alternate between live-coding demonstrations and periods in which participants apply that knowledge in context, both using Jupyter Notebooks. The software we will be using is NetworkX, a standard Python library that is simple to understand, provides a breadth of options and has a large user community.\n",
    "\n",
    "**Target group**: Undergraduate, master students, doctoral candidates, and experienced researchers who want to get introduced to the practice of Computational Social Science.\n",
    "\n",
    "**Requirements**: Participants are expected to know the basics of Python and have at least some experience using it. For the workshops, participants should bring a running system on which they can execute Jupyter Notebooks. We will be using Python 3.9 and several standard libraries that are part of the Anaconda 2022.10 distribution or can be installed on top of that. A list of libraries and versions of these libraries that participants should import will be circulated before the workshops. We recommend that participants install Anaconda 2022.10. Feel free to also work in a cloud-like Google Colab. Consult [this link](https://github.com/gesiscss/css_methods_python/blob/main/a_introduction/1_computing_environment.ipynb) for more detailed instructions on how to set up your computing environment.\n",
    "\n",
    "**Lecturers**: Dr. Haiko Lietz is a postdoctoral researcher in the Computational Social Science department at GESIS - Leibniz Institute for the Social Sciences. His research interests are in computational sociology, network science, and complexity science. Dr. N. Gizem Bacaksizlar Turbic is a postdoctoral researcher in the Computational Social Science departments at RWTH Aachen University and GESIS - Leibniz Institute for the Social Sciences. Her research areas include complex adaptive systems and social and political networks."
   ]
  },
  {
   "cell_type": "markdown",
   "id": "ed1d0709",
   "metadata": {},
   "source": [
    "## Documentation of Networkx 2.8.4\n",
    "\n",
    "https://networkx.org/documentation/networkx-2.8.4/reference/index.html"
   ]
  },
  {
   "cell_type": "markdown",
   "id": "7a506d5e",
   "metadata": {},
   "source": [
    "## Network construction"
   ]
  },
  {
   "cell_type": "markdown",
   "id": "161caa5f",
   "metadata": {},
   "source": [
    "### Constructing from scratch"
   ]
  },
  {
   "cell_type": "code",
   "execution_count": 1,
   "id": "b0b8ad9d",
   "metadata": {},
   "outputs": [
    {
     "data": {
      "text/plain": [
       "'3.0'"
      ]
     },
     "execution_count": 1,
     "metadata": {},
     "output_type": "execute_result"
    }
   ],
   "source": [
    "import networkx as nx\n",
    "nx.__version__"
   ]
  },
  {
   "cell_type": "code",
   "execution_count": 2,
   "id": "e73da5e1",
   "metadata": {},
   "outputs": [],
   "source": [
    "G = nx.Graph()"
   ]
  },
  {
   "cell_type": "code",
   "execution_count": 3,
   "id": "979a6a8f",
   "metadata": {},
   "outputs": [],
   "source": [
    "D = nx.DiGraph()"
   ]
  },
  {
   "cell_type": "code",
   "execution_count": 4,
   "id": "d61a39ae",
   "metadata": {},
   "outputs": [],
   "source": [
    "G.add_node(5)"
   ]
  },
  {
   "cell_type": "code",
   "execution_count": 5,
   "id": "72f6c496",
   "metadata": {},
   "outputs": [],
   "source": [
    "G.add_nodes_from(['pretty', 13])"
   ]
  },
  {
   "cell_type": "code",
   "execution_count": 6,
   "id": "d9a188f9",
   "metadata": {},
   "outputs": [
    {
     "data": {
      "text/plain": [
       "NodeView((5, 'pretty', 13))"
      ]
     },
     "execution_count": 6,
     "metadata": {},
     "output_type": "execute_result"
    }
   ],
   "source": [
    "G.nodes()"
   ]
  },
  {
   "cell_type": "code",
   "execution_count": 7,
   "id": "b6dc815c",
   "metadata": {},
   "outputs": [],
   "source": [
    "G.add_edge('pretty', 13)"
   ]
  },
  {
   "cell_type": "code",
   "execution_count": 8,
   "id": "30514935",
   "metadata": {},
   "outputs": [],
   "source": [
    "G.add_edges_from([('pretty', 13), ('ruby', 0)])"
   ]
  },
  {
   "cell_type": "code",
   "execution_count": 9,
   "id": "6d84b46a",
   "metadata": {},
   "outputs": [
    {
     "data": {
      "text/plain": [
       "EdgeView([('pretty', 13), ('ruby', 0)])"
      ]
     },
     "execution_count": 9,
     "metadata": {},
     "output_type": "execute_result"
    }
   ],
   "source": [
    "G.edges()"
   ]
  },
  {
   "cell_type": "code",
   "execution_count": 10,
   "id": "327ac1a9",
   "metadata": {},
   "outputs": [
    {
     "data": {
      "text/plain": [
       "NodeView((5, 'pretty', 13, 'ruby', 0))"
      ]
     },
     "execution_count": 10,
     "metadata": {},
     "output_type": "execute_result"
    }
   ],
   "source": [
    "G.nodes()"
   ]
  },
  {
   "cell_type": "code",
   "execution_count": 11,
   "id": "749916ab",
   "metadata": {},
   "outputs": [
    {
     "data": {
      "image/png": "[encoded data removed]",
      "text/plain": [
       "<Figure size 432x288 with 1 Axes>"
      ]
     },
     "metadata": {},
     "output_type": "display_data"
    }
   ],
   "source": [
    "nx.draw_networkx(G, with_labels = True)"
   ]
  },
  {
   "cell_type": "markdown",
   "id": "87e798cc",
   "metadata": {},
   "source": [
    "### Constructing from Pandas dataframes"
   ]
  },
  {
   "cell_type": "code",
   "execution_count": 12,
   "id": "ae59c4c4",
   "metadata": {},
   "outputs": [
    {
     "data": {
      "text/plain": [
       "'1.2.4'"
      ]
     },
     "execution_count": 12,
     "metadata": {},
     "output_type": "execute_result"
    }
   ],
   "source": [
    "import pandas as pd\n",
    "pd.__version__"
   ]
  },
  {
   "cell_type": "markdown",
   "id": "fbeefca0",
   "metadata": {},
   "source": [
    "#### Copenhagen Networks Study interaction data"
   ]
  },
  {
   "cell_type": "code",
   "execution_count": 13,
   "id": "83945c4a",
   "metadata": {},
   "outputs": [
    {
     "data": {
      "text/html": [
       "<div>\n",
       "<style scoped>\n",
       "    .dataframe tbody tr th:only-of-type {\n",
       "        vertical-align: middle;\n",
       "    }\n",
       "\n",
       "    .dataframe tbody tr th {\n",
       "        vertical-align: top;\n",
       "    }\n",
       "\n",
       "    .dataframe thead th {\n",
       "        text-align: right;\n",
       "    }\n",
       "</style>\n",
       "<table border=\"1\" class=\"dataframe\">\n",
       "  <thead>\n",
       "    <tr style=\"text-align: right;\">\n",
       "      <th></th>\n",
       "      <th>timestamp</th>\n",
       "      <th>sender</th>\n",
       "      <th>recipient</th>\n",
       "    </tr>\n",
       "  </thead>\n",
       "  <tbody>\n",
       "    <tr>\n",
       "      <th>16825</th>\n",
       "      <td>1613876</td>\n",
       "      <td>0</td>\n",
       "      <td>208</td>\n",
       "    </tr>\n",
       "    <tr>\n",
       "      <th>34</th>\n",
       "      <td>3629</td>\n",
       "      <td>0</td>\n",
       "      <td>512</td>\n",
       "    </tr>\n",
       "    <tr>\n",
       "      <th>1745</th>\n",
       "      <td>169370</td>\n",
       "      <td>0</td>\n",
       "      <td>512</td>\n",
       "    </tr>\n",
       "    <tr>\n",
       "      <th>36</th>\n",
       "      <td>4602</td>\n",
       "      <td>0</td>\n",
       "      <td>512</td>\n",
       "    </tr>\n",
       "    <tr>\n",
       "      <th>1802</th>\n",
       "      <td>176949</td>\n",
       "      <td>0</td>\n",
       "      <td>512</td>\n",
       "    </tr>\n",
       "  </tbody>\n",
       "</table>\n",
       "</div>"
      ],
      "text/plain": [
       "       timestamp  sender  recipient\n",
       "16825    1613876       0        208\n",
       "34          3629       0        512\n",
       "1745      169370       0        512\n",
       "36          4602       0        512\n",
       "1802      176949       0        512"
      ]
     },
     "execution_count": 13,
     "metadata": {},
     "output_type": "execute_result"
    }
   ],
   "source": [
    "edgelist_sms = pd.read_csv('data/sms.csv')\n",
    "edgelist_sms.sort_values('sender').head()"
   ]
  },
  {
   "cell_type": "code",
   "execution_count": 14,
   "id": "5fec4990",
   "metadata": {},
   "outputs": [
    {
     "name": "stdout",
     "output_type": "stream",
     "text": [
      "column names:\n",
      "\t- timestamp\n",
      "\t- sender\n",
      "\t- recipient\n",
      "\n"
     ]
    }
   ],
   "source": [
    "with open('data/sms.README', 'r') as f:\n",
    "    print(f.read())"
   ]
  },
  {
   "cell_type": "code",
   "execution_count": 15,
   "id": "d4fd9ec6",
   "metadata": {},
   "outputs": [],
   "source": [
    "import matplotlib.pyplot as plt"
   ]
  },
  {
   "cell_type": "code",
   "execution_count": 16,
   "id": "f20f61ef",
   "metadata": {},
   "outputs": [
    {
     "data": {
      "image/png": "[encoded data removed]",
      "text/plain": [
       "<Figure size 216x144 with 1 Axes>"
      ]
     },
     "metadata": {
      "needs_background": "light"
     },
     "output_type": "display_data"
    }
   ],
   "source": [
    "plt.figure(figsize=[3, 2])\n",
    "edgelist_sms['timestamp'].hist(bins=28)\n",
    "for i in range(5):\n",
    "    plt.axvline(x=7*24*60*60*i, color='black') #days*hours*min*sec\n",
    "plt.xlabel('timestamp')\n",
    "plt.ylabel('Count')\n",
    "plt.show()"
   ]
  },
  {
   "cell_type": "markdown",
   "id": "0ae22ba6",
   "metadata": {},
   "source": [
    "#### Text messaging network"
   ]
  },
  {
   "cell_type": "code",
   "execution_count": 17,
   "id": "4ec31311",
   "metadata": {},
   "outputs": [
    {
     "data": {
      "text/plain": [
       "<networkx.classes.digraph.DiGraph at 0x1ea08c24a30>"
      ]
     },
     "execution_count": 17,
     "metadata": {},
     "output_type": "execute_result"
    }
   ],
   "source": [
    "D_sms = nx.from_pandas_edgelist(\n",
    "    df = edgelist_sms, \n",
    "    source = 'sender', \n",
    "    target = 'recipient', \n",
    "    create_using = nx.DiGraph\n",
    ")\n",
    "D_sms"
   ]
  },
  {
   "cell_type": "code",
   "execution_count": 18,
   "id": "c01c1a85",
   "metadata": {},
   "outputs": [
    {
     "data": {
      "text/plain": [
       "OutEdgeView([(370, 512), (512, 370), (512, 0), (512, 299), (512, 55), (512, 36), (512, 211), (512, 348), (512, 46), (0, 512), (0, 208), (137, 136), (137, 176), (137, 599), (137, 25), (137, 454), (136, 137), (136, 108), (136, 73), (136, 654), (278, 335), (278, 31), (335, 414), (335, 278), (299, 237), (299, 512), (299, 133), (299, 144), (299, 744), (237, 299), (237, 133), (663, 519), (519, 85), (519, 663), (300, 301), (300, 371), (300, 743), (300, 100), (301, 300), (301, 69), (301, 186), (301, 37), (47, 19), (47, 449), (47, 46), (19, 47), (19, 595), (202, 697), (697, 202), (454, 244), (454, 25), (454, 137), (244, 454), (244, 766), (244, 25), (687, 310), (687, 265), (687, 540), (310, 687), (310, 143), (310, 540), (310, 265), (279, 617), (617, 279), (617, 391), (617, 368), (218, 382), (218, 100), (218, 772), (382, 218), (382, 234), (611, 146), (611, 176), (611, 268), (611, 472), (146, 611), (146, 458), (146, 145), (146, 176), (31, 76), (31, 278), (31, 399), (76, 588), (76, 31), (176, 611), (176, 578), (176, 141), (176, 137), (176, 401), (176, 146), (176, 486), (176, 797), (176, 236), (176, 4), (120, 314), (120, 527), (314, 120), (314, 527), (51, 75), (51, 23), (75, 51), (75, 154), (75, 342), (75, 652), (786, 350), (786, 128), (786, 235), (350, 786), (350, 235), (21, 20), (20, 21), (20, 442), (574, 225), (574, 174), (574, 282), (225, 574), (225, 337), (225, 197), (225, 436), (225, 227), (683, 390), (683, 363), (683, 661), (390, 683), (390, 200), (466, 183), (466, 173), (466, 689), (466, 412), (466, 269), (183, 466), (183, 685), (632, 274), (632, 285), (632, 491), (274, 632), (274, 61), (274, 440), (5, 802), (5, 269), (802, 5), (634, 681), (681, 634), (681, 373), (681, 111), (681, 37), (578, 176), (578, 289), (578, 151), (578, 97), (578, 371), (578, 141), (578, 641), (121, 288), (121, 104), (121, 801), (288, 121), (288, 401), (288, 104), (288, 49), (164, 304), (164, 163), (164, 494), (164, 57), (304, 164), (304, 494), (304, 474), (304, 549), (304, 419), (304, 163), (141, 176), (141, 97), (141, 578), (458, 146), (213, 170), (170, 213), (170, 843), (170, 155), (170, 645), (359, 560), (359, 72), (359, 259), (359, 339), (359, 52), (560, 359), (560, 144), (560, 736), (560, 207), (696, 306), (306, 696), (449, 47), (449, 284), (711, 200), (711, 348), (711, 413), (200, 711), (200, 390), (55, 512), (55, 235), (414, 335), (414, 637), (414, 421), (139, 546), (139, 672), (139, 58), (546, 139), (546, 99), (774, 586), (586, 774), (586, 129), (586, 180), (340, 601), (601, 340), (289, 578), (289, 752), (640, 172), (640, 95), (640, 551), (172, 640), (172, 95), (172, 551), (89, 341), (341, 89), (532, 13), (532, 371), (13, 12), (13, 492), (13, 658), (13, 486), (13, 583), (13, 11), (13, 588), (13, 532), (151, 578), (151, 69), (82, 24), (24, 82), (720, 342), (342, 720), (342, 372), (342, 282), (342, 75), (342, 27), (342, 550), (342, 290), (100, 743), (100, 568), (100, 218), (100, 344), (100, 177), (100, 509), (100, 15), (100, 300), (100, 503), (743, 100), (743, 300), (743, 177), (18, 276), (18, 488), (18, 570), (276, 242), (488, 18), (115, 475), (475, 115), (235, 55), (235, 645), (235, 599), (235, 786), (235, 128), (235, 350), (357, 3), (357, 49), (357, 239), (3, 357), (3, 49), (3, 217), (782, 435), (435, 782), (371, 300), (371, 27), (371, 798), (371, 653), (371, 513), (371, 532), (371, 800), (371, 52), (145, 146), (485, 472), (485, 166), (485, 415), (485, 280), (485, 358), (485, 180), (485, 48), (485, 179), (485, 90), (472, 485), (472, 537), (472, 90), (472, 611), (472, 280), (472, 221), (472, 131), (472, 52), (535, 614), (535, 503), (535, 240), (614, 535), (474, 639), (474, 304), (474, 703), (474, 596), (474, 505), (474, 90), (474, 521), (639, 474), (639, 286), (266, 424), (266, 4), (266, 785), (266, 221), (424, 266), (424, 785), (424, 348), (424, 645), (424, 4), (166, 485), (166, 272), (166, 165), (254, 88), (254, 564), (254, 665), (254, 378), (254, 29), (88, 572), (88, 492), (88, 665), (88, 505), (88, 324), (88, 254), (799, 549), (549, 161), (549, 799), (549, 304), (171, 49), (171, 437), (49, 3), (49, 171), (49, 48), (49, 288), (49, 74), (49, 357), (273, 585), (273, 397), (585, 273), (585, 232), (499, 600), (499, 698), (499, 805), (499, 63), (600, 499), (193, 179), (193, 372), (193, 217), (179, 193), (179, 812), (179, 656), (179, 485), (401, 288), (401, 36), (401, 176), (401, 190), (401, 457), (401, 104), (401, 169), (401, 666), (419, 8), (419, 557), (419, 304), (8, 419), (8, 557), (8, 592), (39, 622), (39, 257), (39, 707), (39, 118), (39, 545), (39, 331), (39, 457), (622, 39), (623, 651), (651, 623), (651, 22), (272, 166), (272, 312), (272, 415), (272, 589), (272, 178), (685, 183), (91, 90), (91, 649), (91, 64), (90, 91), (90, 358), (90, 472), (90, 64), (90, 474), (90, 485), (570, 18), (6, 27), (6, 406), (27, 6), (27, 371), (27, 616), (27, 342), (27, 112), (256, 553), (256, 65), (553, 256), (175, 119), (175, 122), (175, 105), (175, 598), (119, 175), (119, 122), (227, 436), (227, 174), (227, 197), (227, 225), (436, 522), (436, 225), (437, 171), (437, 846), (688, 405), (688, 158), (688, 178), (688, 152), (405, 152), (405, 688), (405, 682), (133, 237), (133, 299), (133, 744), (133, 69), (748, 114), (114, 748), (114, 376), (569, 465), (569, 190), (465, 569), (700, 46), (46, 700), (46, 484), (46, 512), (46, 47), (494, 304), (494, 164), (494, 163), (494, 57), (494, 123), (484, 46), (652, 677), (652, 75), (652, 558), (677, 652), (677, 351), (296, 481), (481, 296), (481, 93), (481, 388), (481, 706), (163, 164), (163, 304), (163, 494), (163, 57), (480, 123), (480, 556), (123, 480), (123, 494), (123, 163), (448, 149), (448, 208), (448, 409), (448, 356), (149, 448), (149, 72), (104, 288), (104, 373), (104, 275), (104, 401), (104, 121), (780, 187), (780, 96), (187, 780), (4, 266), (4, 221), (4, 344), (4, 424), (4, 381), (4, 507), (4, 176), (4, 144), (491, 208), (491, 422), (208, 491), (208, 128), (208, 448), (208, 0), (208, 422), (645, 235), (645, 424), (645, 155), (645, 462), (645, 170), (268, 521), (268, 611), (268, 249), (268, 267), (268, 781), (268, 69), (268, 280), (521, 268), (521, 358), (48, 49), (48, 485), (580, 759), (580, 283), (580, 441), (759, 580), (759, 155), (317, 28), (317, 695), (28, 317), (376, 114), (845, 128), (845, 256), (128, 208), (128, 845), (128, 786), (128, 235), (324, 52), (324, 221), (324, 589), (324, 395), (324, 68), (324, 88), (52, 324), (52, 221), (52, 653), (52, 294), (52, 359), (52, 108), (52, 371), (372, 342), (372, 193), (372, 217), (372, 190), (173, 211), (173, 466), (173, 561), (211, 173), (211, 664), (785, 424), (785, 67), (830, 140), (830, 257), (830, 118), (140, 830), (140, 224), (229, 503), (229, 205), (503, 229), (503, 139), (503, 672), (503, 15), (503, 100), (192, 203), (192, 694), (203, 192), (438, 59), (438, 457), (59, 438), (59, 575), (492, 12), (492, 13), (492, 147), (492, 606), (492, 479), (12, 492), (12, 13), (12, 25), (116, 628), (116, 468), (628, 116), (628, 422), (557, 419), (557, 558), (557, 8), (557, 102), (423, 167), (423, 644), (167, 423), (33, 242), (33, 709), (242, 33), (242, 276), (285, 632), (812, 179), (194, 294), (194, 537), (194, 126), (294, 194), (294, 52), (144, 560), (144, 416), (144, 299), (144, 4), (567, 676), (567, 92), (567, 643), (676, 394), (676, 567), (96, 780), (96, 109), (96, 190), (96, 308), (36, 401), (36, 37), (36, 512), (36, 524), (36, 457), (337, 225), (403, 267), (403, 543), (403, 269), (267, 403), (267, 269), (267, 268), (267, 54), (459, 260), (459, 805), (260, 459), (221, 324), (221, 263), (221, 4), (221, 52), (221, 472), (221, 266), (221, 15), (221, 381), (221, 262), (221, 598), (174, 227), (174, 701), (174, 331), (339, 379), (339, 584), (339, 582), (339, 359), (379, 339), (379, 584), (752, 289), (752, 457), (752, 625), (558, 557), (558, 162), (699, 658), (699, 527), (658, 699), (658, 13), (507, 615), (615, 507), (615, 383), (351, 28), (351, 541), (351, 367), (351, 677), (351, 336), (283, 580), (283, 441), (269, 267), (269, 403), (269, 788), (269, 543), (269, 5), (269, 466), (269, 54), (93, 481), (257, 331), (257, 830), (707, 331), (707, 157), (118, 39), (118, 830), (545, 830), (331, 707), (331, 257), (331, 174), (271, 178), (178, 271), (178, 688), (178, 536), (178, 272), (23, 51), (23, 485), (352, 468), (468, 352), (468, 116), (364, 102), (364, 500), (364, 62), (102, 364), (102, 557), (388, 481), (388, 195), (388, 506), (35, 43), (43, 35), (397, 212), (397, 273), (495, 420), (495, 362), (495, 98), (420, 495), (420, 98), (420, 362), (265, 687), (265, 310), (263, 221), (263, 374), (263, 625), (263, 598), (263, 109), (69, 37), (69, 151), (69, 301), (69, 186), (69, 268), (69, 133), (37, 36), (37, 301), (37, 69), (37, 378), (37, 681), (37, 348), (362, 495), (291, 589), (291, 477), (291, 528), (291, 583), (291, 846), (589, 291), (589, 588), (589, 324), (589, 395), (589, 272), (95, 551), (95, 640), (95, 394), (95, 172), (95, 262), (95, 119), (95, 598), (61, 274), (572, 505), (572, 665), (572, 88), (391, 617), (391, 368), (596, 703), (596, 474), (703, 596), (703, 474), (703, 389), (64, 204), (64, 90), (64, 91), (204, 64), (531, 250), (531, 548), (531, 595), (250, 531), (250, 548), (548, 531), (548, 250), (282, 455), (282, 574), (275, 104), (373, 104), (373, 681), (356, 210), (356, 185), (356, 448), (210, 356), (210, 409), (374, 297), (374, 263), (374, 846), (297, 374), (584, 339), (584, 379), (584, 582), (97, 141), (97, 578), (97, 333), (568, 100), (195, 388), (457, 752), (457, 39), (457, 619), (457, 401), (457, 217), (457, 66), (457, 109), (457, 36), (344, 221), (344, 670), (344, 100), (344, 4), (234, 382), (638, 554), (554, 638), (9, 669), (446, 106), (446, 85), (106, 446), (106, 85), (348, 711), (348, 37), (551, 95), (551, 394), (551, 640), (551, 172), (506, 388), (506, 56), (541, 351), (541, 367), (541, 336), (537, 472), (537, 194), (537, 451), (805, 63), (805, 459), (805, 499), (63, 805), (63, 499), (670, 344), (383, 682), (383, 615), (383, 330), (682, 330), (682, 383), (682, 405), (212, 397), (358, 90), (358, 521), (358, 485), (358, 401), (358, 315), (402, 444), (444, 801), (444, 482), (444, 402), (801, 444), (801, 121), (616, 27), (524, 311), (524, 36), (311, 524), (311, 326), (800, 371), (666, 354), (666, 401), (354, 666), (367, 541), (367, 351), (367, 519), (556, 480), (556, 571), (772, 218), (772, 157), (772, 528), (330, 682), (527, 314), (527, 120), (527, 699), (312, 272), (158, 688), (158, 415), (158, 94), (308, 457), (308, 109), (308, 96), (109, 308), (109, 96), (109, 457), (109, 263), (355, 538), (538, 355), (394, 551), (394, 676), (1, 345), (345, 1), (547, 771), (771, 547), (321, 322), (321, 233), (322, 321), (843, 170), (571, 556), (464, 220), (220, 464), (220, 360), (220, 83), (543, 403), (543, 267), (543, 269), (561, 631), (561, 173), (631, 561), (598, 657), (598, 70), (598, 263), (598, 175), (598, 368), (598, 694), (598, 95), (598, 221), (657, 598), (657, 236), (657, 489), (657, 459), (657, 608), (798, 371), (798, 108), (798, 280), (217, 74), (217, 372), (217, 193), (217, 422), (217, 3), (74, 217), (74, 49), (469, 399), (399, 469), (284, 449), (505, 572), (505, 474), (505, 88), (505, 665), (505, 393), (207, 560), (207, 736), (177, 743), (177, 100), (689, 466), (689, 801), (539, 526), (473, 636), (636, 473), (157, 772), (157, 707), (157, 528), (161, 549), (482, 444), (482, 393), (292, 325), (292, 427), (325, 427), (92, 567), (92, 386), (92, 676), (92, 368), (427, 325), (427, 292), (368, 391), (368, 617), (368, 598), (368, 92), (619, 457), (165, 166), (165, 781), (108, 798), (108, 268), (108, 136), (108, 523), (108, 52), (108, 706), (243, 714), (243, 648), (714, 243), (336, 541), (396, 641), (641, 578), (197, 225), (197, 227), (588, 589), (588, 76), (588, 395), (588, 13), (736, 560), (736, 207), (415, 485), (415, 158), (415, 272), (415, 94), (415, 644), (333, 97), (152, 405), (152, 688), (190, 96), (190, 372), (190, 401), (386, 92), (386, 567), (461, 81), (461, 143), (236, 657), (236, 472), (236, 176), (58, 672), (58, 139), (58, 15), (58, 706), (672, 503), (672, 58), (672, 139), (564, 254), (671, 813), (813, 671), (409, 448), (409, 210), (409, 185), (412, 466), (154, 75), (695, 317), (695, 215), (695, 644), (455, 282), (455, 129), (422, 491), (422, 628), (422, 217), (422, 366), (422, 208), (422, 365), (422, 575), (477, 291), (131, 280), (131, 219), (131, 472), (280, 131), (280, 485), (280, 798), (280, 268), (56, 506), (470, 678), (678, 470), (143, 310), (143, 461), (135, 605), (605, 135), (215, 673), (486, 176), (486, 13), (147, 492), (595, 531), (595, 19), (441, 283), (441, 580), (441, 461), (552, 416), (416, 552), (416, 144), (70, 598), (129, 455), (129, 586), (73, 208), (73, 136), (540, 310), (540, 687), (788, 635), (698, 499), (50, 575), (575, 50), (575, 59), (489, 657), (489, 653), (14, 421), (421, 14), (421, 111), (421, 414), (644, 695), (644, 742), (644, 415), (644, 423), (68, 471), (68, 324), (471, 68), (471, 222), (122, 175), (122, 119), (249, 268), (653, 52), (653, 371), (653, 489), (653, 513), (797, 490), (406, 6), (522, 436), (395, 324), (395, 589), (395, 588), (72, 359), (72, 149), (635, 788), (205, 229), (442, 20), (111, 421), (111, 681), (126, 194), (680, 453), (453, 680), (804, 533), (533, 804), (85, 519), (85, 106), (85, 446), (85, 672), (380, 704), (704, 380), (625, 263), (625, 752), (500, 364), (66, 457), (513, 371), (513, 653), (599, 235), (599, 137), (259, 359), (259, 418), (664, 211), (42, 432), (432, 42), (413, 701), (413, 661), (413, 711), (701, 174), (701, 413), (648, 243), (323, 392), (392, 323), (186, 301), (186, 69), (57, 494), (57, 163), (509, 100), (334, 607), (607, 334), (661, 413), (661, 683), (665, 572), (665, 88), (665, 505), (528, 157), (528, 291), (582, 584), (582, 339), (94, 158), (94, 415), (240, 535), (846, 437), (846, 291), (846, 374), (846, 191), (694, 192), (694, 598), (155, 645), (155, 170), (180, 586), (15, 221), (15, 503), (15, 100), (15, 58), (15, 672), (381, 4), (98, 495), (98, 420), (744, 133), (744, 299), (649, 91), (360, 220), (360, 534), (606, 492), (222, 471), (71, 593), (593, 71), (608, 657), (62, 364), (418, 259), (583, 13), (326, 311), (25, 454), (25, 12), (25, 244), (709, 33), (534, 360), (99, 546), (67, 785), (462, 645), (559, 64), (232, 585), (445, 624), (445, 199), (624, 445), (105, 175), (637, 253), (637, 414), (637, 702), (253, 637), (253, 673), (153, 612), (612, 153), (440, 274), (536, 178), (781, 268), (490, 797), (430, 214), (214, 430), (378, 476), (378, 254), (378, 176), (378, 290), (378, 37), (476, 378), (366, 422), (315, 358), (224, 140), (523, 108), (54, 267), (54, 269), (451, 537), (252, 363), (363, 252), (363, 683), (65, 256), (562, 268), (201, 79), (79, 201), (286, 639), (22, 651), (22, 668), (592, 8), (542, 394), (169, 401), (361, 613), (613, 361), (654, 136), (327, 105), (182, 358), (702, 692), (702, 637), (692, 702), (742, 644), (191, 846), (11, 13), (332, 452), (332, 47), (452, 332), (262, 221), (262, 95), (389, 703), (673, 253), (673, 188), (673, 215), (673, 257), (667, 650), (650, 667), (760, 489), (258, 561), (668, 22), (656, 179), (766, 244), (408, 764), (239, 357), (29, 254), (188, 673), (188, 246), (479, 492), (148, 659), (365, 422), (643, 567), (199, 445), (246, 188), (290, 342), (290, 378), (706, 481), (706, 58), (706, 108), (83, 220), (675, 590), (26, 238), (238, 26)])"
      ]
     },
     "execution_count": 18,
     "metadata": {},
     "output_type": "execute_result"
    }
   ],
   "source": [
    "D_sms.edges()"
   ]
  },
  {
   "cell_type": "code",
   "execution_count": 19,
   "id": "0f1078a6",
   "metadata": {},
   "outputs": [
    {
     "data": {
      "image/png": "[encoded data removed]",
      "text/plain": [
       "<Figure size 432x288 with 1 Axes>"
      ]
     },
     "metadata": {},
     "output_type": "display_data"
    }
   ],
   "source": [
    "nx.draw_networkx(G=D_sms, node_size=10, with_labels = False)"
   ]
  },
  {
   "cell_type": "markdown",
   "id": "95794a09",
   "metadata": {},
   "source": [
    "#### Aggregated text messaging network"
   ]
  },
  {
   "cell_type": "code",
   "execution_count": 20,
   "id": "565d3cfc",
   "metadata": {},
   "outputs": [],
   "source": [
    "def aggregate_edges(df, time, source, target, weight, time_zero, window_size, inclusive, fun):\n",
    "    '''\n",
    "    Aggregates edges from a time-stamped edge list according to an aggregation function.\n",
    "    \n",
    "    Parameters:\n",
    "        df : Pandas DataFrame\n",
    "            Time-stamped edgelist.\n",
    "        time : String\n",
    "            Name of the column in df which contains the timestamp.\n",
    "        source : String\n",
    "            Name of the column in df which contains the source node.\n",
    "        target : String\n",
    "            Name of the column in df which contains the target node.>\n",
    "        weight : String or None\n",
    "            Name of the column in df which contains the edge weights. If None, a column with unit edge weights will be created.\n",
    "        time_zero : String or numerical\n",
    "            Time where aggregation begins.\n",
    "        window_size : String or numerical\n",
    "            Size of the time window used for aggregation.\n",
    "        inclusive : {'both', 'neither', 'left', 'right'}\n",
    "            Include boundaries. Whether to set each bound as closed or open.\n",
    "        fun : {'max', 'sum', 'mean'}\n",
    "            Aggregation method. Either the maximum edge weight is used, weights are summed, or weights are averaged.\n",
    "    \n",
    "    Returns:\n",
    "        Aggregated edge list consisting of a node pair and a weight column.\n",
    "    '''\n",
    "    if weight == None:\n",
    "        weight = 'weight'\n",
    "        df[weight] = 1\n",
    "    if fun == 'max':\n",
    "        df_agg = df[df[time].between(left=time_zero, right=time_zero+window_size, inclusive=inclusive)].groupby([source, target]).max().reset_index()[[source, target, weight]]\n",
    "    if fun == 'sum':\n",
    "        df_agg = df[df[time].between(left=time_zero, right=time_zero+window_size, inclusive=inclusive)].groupby([source, target]).sum().reset_index()[[source, target, weight]]\n",
    "    if fun == 'mean':\n",
    "        df_agg = df[df[time].between(left=time_zero, right=time_zero+window_size, inclusive=inclusive)].groupby([source, target]).mean().reset_index()[[source, target, weight]]\n",
    "    return df_agg"
   ]
  },
  {
   "cell_type": "code",
   "execution_count": 21,
   "id": "11adb03f",
   "metadata": {},
   "outputs": [
    {
     "data": {
      "text/html": [
       "<div>\n",
       "<style scoped>\n",
       "    .dataframe tbody tr th:only-of-type {\n",
       "        vertical-align: middle;\n",
       "    }\n",
       "\n",
       "    .dataframe tbody tr th {\n",
       "        vertical-align: top;\n",
       "    }\n",
       "\n",
       "    .dataframe thead th {\n",
       "        text-align: right;\n",
       "    }\n",
       "</style>\n",
       "<table border=\"1\" class=\"dataframe\">\n",
       "  <thead>\n",
       "    <tr style=\"text-align: right;\">\n",
       "      <th></th>\n",
       "      <th>sender</th>\n",
       "      <th>recipient</th>\n",
       "      <th>weight</th>\n",
       "    </tr>\n",
       "  </thead>\n",
       "  <tbody>\n",
       "    <tr>\n",
       "      <th>0</th>\n",
       "      <td>0</td>\n",
       "      <td>512</td>\n",
       "      <td>34</td>\n",
       "    </tr>\n",
       "    <tr>\n",
       "      <th>1</th>\n",
       "      <td>1</td>\n",
       "      <td>345</td>\n",
       "      <td>2</td>\n",
       "    </tr>\n",
       "    <tr>\n",
       "      <th>2</th>\n",
       "      <td>3</td>\n",
       "      <td>49</td>\n",
       "      <td>6</td>\n",
       "    </tr>\n",
       "    <tr>\n",
       "      <th>3</th>\n",
       "      <td>3</td>\n",
       "      <td>357</td>\n",
       "      <td>23</td>\n",
       "    </tr>\n",
       "    <tr>\n",
       "      <th>4</th>\n",
       "      <td>4</td>\n",
       "      <td>221</td>\n",
       "      <td>2</td>\n",
       "    </tr>\n",
       "  </tbody>\n",
       "</table>\n",
       "</div>"
      ],
      "text/plain": [
       "   sender  recipient  weight\n",
       "0       0        512      34\n",
       "1       1        345       2\n",
       "2       3         49       6\n",
       "3       3        357      23\n",
       "4       4        221       2"
      ]
     },
     "execution_count": 21,
     "metadata": {},
     "output_type": "execute_result"
    }
   ],
   "source": [
    "edgelist_sms_week1 = aggregate_edges(\n",
    "    df = edgelist_sms, \n",
    "    time = 'timestamp', \n",
    "    source = 'sender', \n",
    "    target = 'recipient', \n",
    "    weight = None, \n",
    "    time_zero = 0, \n",
    "    window_size = 604800, \n",
    "    inclusive = 'left', \n",
    "    fun = 'sum'\n",
    ")\n",
    "edgelist_sms_week1.head()"
   ]
  },
  {
   "cell_type": "code",
   "execution_count": 22,
   "id": "e169992b",
   "metadata": {},
   "outputs": [
    {
     "data": {
      "text/plain": [
       "<networkx.classes.digraph.DiGraph at 0x1ea109dd580>"
      ]
     },
     "execution_count": 22,
     "metadata": {},
     "output_type": "execute_result"
    }
   ],
   "source": [
    "D_sms_week1 = nx.from_pandas_edgelist(\n",
    "    df = edgelist_sms_week1, \n",
    "    source = 'sender', \n",
    "    target = 'recipient', \n",
    "    edge_attr = 'weight', \n",
    "    create_using = nx.DiGraph\n",
    ")\n",
    "D_sms_week1"
   ]
  },
  {
   "cell_type": "code",
   "execution_count": 23,
   "id": "50ca3c1d",
   "metadata": {},
   "outputs": [
    {
     "data": {
      "text/plain": [
       "OutEdgeDataView([(0, 512, {'weight': 34}), (512, 0, {'weight': 38}), (512, 36, {'weight': 1}), (512, 55, {'weight': 20}), (512, 299, {'weight': 82}), (512, 370, {'weight': 6}), (1, 345, {'weight': 2}), (345, 1, {'weight': 1}), (3, 49, {'weight': 6}), (3, 357, {'weight': 23}), (49, 3, {'weight': 4}), (49, 48, {'weight': 15}), (49, 171, {'weight': 7}), (357, 3, {'weight': 21}), (357, 49, {'weight': 1}), (4, 221, {'weight': 2}), (4, 266, {'weight': 5}), (4, 344, {'weight': 4}), (4, 424, {'weight': 1}), (221, 263, {'weight': 1}), (221, 324, {'weight': 17}), (266, 4, {'weight': 6}), (266, 424, {'weight': 3}), (266, 785, {'weight': 1}), (344, 4, {'weight': 3}), (344, 100, {'weight': 1}), (344, 221, {'weight': 2}), (344, 670, {'weight': 8}), (424, 266, {'weight': 4}), (424, 348, {'weight': 2}), (424, 645, {'weight': 3}), (424, 785, {'weight': 1}), (5, 802, {'weight': 11}), (802, 5, {'weight': 8}), (6, 27, {'weight': 14}), (27, 6, {'weight': 5}), (27, 371, {'weight': 7}), (27, 616, {'weight': 1}), (8, 419, {'weight': 4}), (8, 557, {'weight': 2}), (419, 8, {'weight': 3}), (419, 557, {'weight': 10}), (557, 8, {'weight': 1}), (557, 419, {'weight': 11}), (557, 558, {'weight': 3}), (9, 669, {'weight': 1}), (12, 13, {'weight': 5}), (12, 492, {'weight': 2}), (13, 12, {'weight': 8}), (13, 492, {'weight': 4}), (13, 658, {'weight': 2}), (492, 12, {'weight': 3}), (492, 13, {'weight': 6}), (492, 147, {'weight': 7}), (658, 13, {'weight': 2}), (658, 699, {'weight': 3}), (18, 276, {'weight': 1}), (18, 488, {'weight': 14}), (18, 570, {'weight': 6}), (276, 242, {'weight': 1}), (488, 18, {'weight': 8}), (570, 18, {'weight': 8}), (19, 47, {'weight': 7}), (19, 595, {'weight': 5}), (47, 19, {'weight': 3}), (47, 449, {'weight': 13}), (20, 21, {'weight': 64}), (21, 20, {'weight': 145}), (23, 51, {'weight': 9}), (51, 23, {'weight': 9}), (51, 75, {'weight': 9}), (24, 82, {'weight': 1}), (82, 24, {'weight': 1}), (371, 27, {'weight': 6}), (371, 300, {'weight': 4}), (371, 798, {'weight': 4}), (616, 27, {'weight': 1}), (28, 317, {'weight': 5}), (317, 28, {'weight': 5}), (317, 695, {'weight': 2}), (31, 76, {'weight': 2}), (31, 278, {'weight': 1}), (278, 31, {'weight': 1}), (278, 335, {'weight': 42}), (33, 242, {'weight': 10}), (242, 33, {'weight': 13}), (242, 276, {'weight': 1}), (35, 43, {'weight': 8}), (43, 35, {'weight': 8}), (36, 37, {'weight': 22}), (36, 401, {'weight': 7}), (36, 512, {'weight': 1}), (37, 36, {'weight': 26}), (401, 36, {'weight': 7}), (401, 176, {'weight': 2}), (401, 190, {'weight': 1}), (401, 288, {'weight': 2}), (39, 118, {'weight': 1}), (39, 257, {'weight': 1}), (39, 331, {'weight': 1}), (39, 457, {'weight': 1}), (39, 545, {'weight': 1}), (39, 622, {'weight': 14}), (39, 707, {'weight': 1}), (257, 331, {'weight': 8}), (331, 257, {'weight': 6}), (331, 707, {'weight': 12}), (457, 39, {'weight': 1}), (457, 619, {'weight': 2}), (457, 752, {'weight': 2}), (622, 39, {'weight': 15}), (707, 331, {'weight': 14}), (46, 484, {'weight': 2}), (46, 700, {'weight': 3}), (484, 46, {'weight': 2}), (700, 46, {'weight': 5}), (449, 47, {'weight': 13}), (48, 49, {'weight': 32}), (171, 49, {'weight': 10}), (171, 437, {'weight': 2}), (75, 51, {'weight': 4}), (75, 154, {'weight': 1}), (75, 342, {'weight': 2}), (52, 324, {'weight': 1}), (324, 52, {'weight': 1}), (324, 221, {'weight': 20}), (55, 235, {'weight': 6}), (55, 512, {'weight': 18}), (235, 55, {'weight': 5}), (235, 645, {'weight': 5}), (56, 506, {'weight': 4}), (506, 388, {'weight': 8}), (58, 672, {'weight': 1}), (59, 438, {'weight': 4}), (438, 59, {'weight': 6}), (61, 274, {'weight': 7}), (274, 61, {'weight': 7}), (274, 632, {'weight': 53}), (63, 805, {'weight': 2}), (805, 63, {'weight': 3}), (805, 459, {'weight': 2}), (64, 90, {'weight': 1}), (64, 204, {'weight': 4}), (90, 64, {'weight': 1}), (90, 91, {'weight': 77}), (90, 358, {'weight': 3}), (90, 472, {'weight': 2}), (204, 64, {'weight': 4}), (69, 37, {'weight': 1}), (69, 151, {'weight': 1}), (151, 69, {'weight': 1}), (151, 578, {'weight': 25}), (74, 217, {'weight': 3}), (217, 74, {'weight': 2}), (154, 75, {'weight': 1}), (342, 75, {'weight': 1}), (342, 282, {'weight': 1}), (342, 372, {'weight': 4}), (342, 720, {'weight': 6}), (88, 492, {'weight': 1}), (88, 572, {'weight': 1}), (572, 505, {'weight': 5}), (89, 341, {'weight': 1}), (341, 89, {'weight': 2}), (91, 90, {'weight': 71}), (358, 90, {'weight': 2}), (358, 521, {'weight': 4}), (472, 90, {'weight': 3}), (472, 485, {'weight': 15}), (472, 537, {'weight': 2}), (92, 386, {'weight': 7}), (92, 567, {'weight': 1}), (386, 92, {'weight': 5}), (567, 92, {'weight': 2}), (567, 676, {'weight': 1}), (93, 481, {'weight': 21}), (481, 93, {'weight': 39}), (481, 296, {'weight': 309}), (481, 388, {'weight': 3}), (95, 551, {'weight': 3}), (95, 640, {'weight': 4}), (551, 95, {'weight': 4}), (551, 394, {'weight': 1}), (551, 640, {'weight': 1}), (640, 95, {'weight': 7}), (640, 172, {'weight': 14}), (640, 551, {'weight': 3}), (96, 780, {'weight': 4}), (780, 96, {'weight': 4}), (780, 187, {'weight': 4}), (97, 141, {'weight': 6}), (97, 333, {'weight': 1}), (97, 578, {'weight': 3}), (141, 97, {'weight': 7}), (141, 176, {'weight': 3}), (578, 97, {'weight': 1}), (578, 151, {'weight': 27}), (578, 176, {'weight': 235}), (578, 289, {'weight': 35}), (578, 371, {'weight': 1}), (100, 177, {'weight': 5}), (100, 218, {'weight': 2}), (100, 344, {'weight': 2}), (100, 568, {'weight': 2}), (100, 743, {'weight': 3}), (177, 100, {'weight': 6}), (177, 743, {'weight': 4}), (218, 100, {'weight': 8}), (218, 382, {'weight': 76}), (218, 772, {'weight': 11}), (568, 100, {'weight': 2}), (743, 100, {'weight': 3}), (743, 177, {'weight': 3}), (743, 300, {'weight': 6}), (102, 364, {'weight': 1}), (364, 102, {'weight': 4}), (104, 275, {'weight': 4}), (104, 288, {'weight': 7}), (104, 373, {'weight': 4}), (275, 104, {'weight': 3}), (288, 104, {'weight': 7}), (288, 121, {'weight': 11}), (288, 401, {'weight': 3}), (373, 104, {'weight': 3}), (108, 268, {'weight': 1}), (108, 798, {'weight': 2}), (268, 521, {'weight': 11}), (268, 611, {'weight': 1}), (798, 108, {'weight': 2}), (798, 371, {'weight': 4}), (109, 308, {'weight': 6}), (308, 109, {'weight': 7}), (308, 457, {'weight': 1}), (114, 376, {'weight': 16}), (114, 748, {'weight': 3}), (376, 114, {'weight': 24}), (748, 114, {'weight': 2}), (115, 475, {'weight': 20}), (475, 115, {'weight': 21}), (116, 468, {'weight': 1}), (116, 628, {'weight': 3}), (468, 352, {'weight': 2}), (628, 116, {'weight': 2}), (119, 175, {'weight': 8}), (175, 119, {'weight': 8}), (120, 314, {'weight': 18}), (314, 120, {'weight': 19}), (314, 527, {'weight': 9}), (121, 288, {'weight': 11}), (123, 480, {'weight': 4}), (480, 123, {'weight': 3}), (480, 556, {'weight': 3}), (128, 208, {'weight': 4}), (128, 786, {'weight': 2}), (128, 845, {'weight': 1}), (208, 128, {'weight': 5}), (208, 448, {'weight': 3}), (208, 491, {'weight': 1}), (786, 128, {'weight': 3}), (786, 350, {'weight': 5}), (845, 128, {'weight': 2}), (845, 256, {'weight': 1}), (129, 455, {'weight': 1}), (455, 129, {'weight': 1}), (455, 282, {'weight': 3}), (131, 280, {'weight': 2}), (280, 131, {'weight': 2}), (133, 237, {'weight': 2}), (133, 299, {'weight': 4}), (237, 133, {'weight': 2}), (237, 299, {'weight': 22}), (299, 133, {'weight': 6}), (299, 237, {'weight': 24}), (299, 512, {'weight': 77}), (135, 605, {'weight': 2}), (605, 135, {'weight': 1}), (136, 137, {'weight': 75}), (137, 136, {'weight': 77}), (137, 176, {'weight': 7}), (176, 137, {'weight': 7}), (176, 141, {'weight': 3}), (176, 146, {'weight': 7}), (176, 401, {'weight': 3}), (176, 486, {'weight': 1}), (176, 578, {'weight': 281}), (176, 611, {'weight': 13}), (139, 546, {'weight': 10}), (546, 139, {'weight': 8}), (140, 830, {'weight': 11}), (830, 140, {'weight': 6}), (143, 310, {'weight': 1}), (310, 143, {'weight': 1}), (310, 687, {'weight': 3}), (144, 560, {'weight': 2}), (560, 144, {'weight': 4}), (560, 359, {'weight': 1}), (560, 736, {'weight': 6}), (145, 146, {'weight': 10}), (146, 145, {'weight': 9}), (146, 176, {'weight': 7}), (146, 458, {'weight': 4}), (146, 611, {'weight': 1}), (458, 146, {'weight': 4}), (611, 146, {'weight': 4}), (611, 176, {'weight': 13}), (611, 268, {'weight': 1}), (147, 492, {'weight': 7}), (149, 448, {'weight': 7}), (448, 149, {'weight': 5}), (448, 208, {'weight': 5}), (448, 409, {'weight': 6}), (152, 405, {'weight': 3}), (405, 152, {'weight': 1}), (405, 688, {'weight': 1}), (157, 772, {'weight': 4}), (772, 157, {'weight': 3}), (772, 218, {'weight': 14}), (158, 415, {'weight': 2}), (158, 688, {'weight': 4}), (415, 158, {'weight': 3}), (415, 485, {'weight': 3}), (688, 158, {'weight': 3}), (688, 405, {'weight': 6}), (161, 549, {'weight': 1}), (549, 161, {'weight': 4}), (163, 164, {'weight': 5}), (163, 304, {'weight': 1}), (163, 494, {'weight': 2}), (164, 163, {'weight': 8}), (164, 304, {'weight': 40}), (164, 494, {'weight': 4}), (304, 164, {'weight': 30}), (304, 474, {'weight': 5}), (304, 494, {'weight': 4}), (494, 163, {'weight': 1}), (494, 164, {'weight': 4}), (494, 304, {'weight': 2}), (165, 166, {'weight': 1}), (166, 165, {'weight': 1}), (166, 272, {'weight': 11}), (166, 485, {'weight': 10}), (272, 166, {'weight': 8}), (272, 312, {'weight': 7}), (485, 166, {'weight': 7}), (485, 415, {'weight': 6}), (485, 472, {'weight': 12}), (167, 423, {'weight': 3}), (423, 167, {'weight': 3}), (170, 213, {'weight': 7}), (170, 843, {'weight': 2}), (213, 170, {'weight': 8}), (843, 170, {'weight': 2}), (437, 171, {'weight': 2}), (172, 640, {'weight': 9}), (173, 211, {'weight': 2}), (173, 466, {'weight': 4}), (173, 561, {'weight': 4}), (211, 173, {'weight': 2}), (466, 173, {'weight': 3}), (466, 183, {'weight': 1}), (466, 412, {'weight': 2}), (466, 689, {'weight': 1}), (561, 173, {'weight': 3}), (561, 631, {'weight': 3}), (174, 227, {'weight': 2}), (227, 174, {'weight': 4}), (227, 436, {'weight': 2}), (486, 176, {'weight': 1}), (178, 271, {'weight': 5}), (271, 178, {'weight': 7}), (179, 193, {'weight': 22}), (179, 812, {'weight': 3}), (193, 179, {'weight': 23}), (193, 372, {'weight': 1}), (812, 179, {'weight': 2}), (183, 466, {'weight': 1}), (183, 685, {'weight': 1}), (187, 780, {'weight': 4}), (192, 203, {'weight': 1}), (372, 193, {'weight': 1}), (372, 342, {'weight': 6}), (194, 294, {'weight': 12}), (194, 537, {'weight': 4}), (294, 194, {'weight': 15}), (537, 194, {'weight': 1}), (537, 472, {'weight': 3}), (197, 225, {'weight': 6}), (225, 197, {'weight': 5}), (225, 337, {'weight': 6}), (225, 574, {'weight': 10}), (200, 711, {'weight': 2}), (711, 200, {'weight': 2}), (202, 697, {'weight': 18}), (697, 202, {'weight': 21}), (207, 560, {'weight': 1}), (491, 208, {'weight': 4}), (491, 422, {'weight': 2}), (210, 356, {'weight': 1}), (356, 185, {'weight': 1}), (356, 210, {'weight': 4}), (212, 397, {'weight': 10}), (397, 212, {'weight': 9}), (382, 218, {'weight': 67}), (382, 234, {'weight': 4}), (220, 464, {'weight': 2}), (464, 220, {'weight': 3}), (263, 221, {'weight': 1}), (263, 374, {'weight': 1}), (337, 225, {'weight': 10}), (574, 225, {'weight': 10}), (229, 503, {'weight': 6}), (503, 139, {'weight': 4}), (503, 229, {'weight': 5}), (503, 672, {'weight': 1}), (234, 382, {'weight': 4}), (645, 235, {'weight': 10}), (645, 424, {'weight': 3}), (236, 472, {'weight': 1}), (236, 657, {'weight': 4}), (657, 236, {'weight': 1}), (657, 598, {'weight': 1}), (243, 714, {'weight': 10}), (714, 243, {'weight': 4}), (244, 454, {'weight': 1}), (454, 244, {'weight': 2}), (250, 531, {'weight': 3}), (531, 250, {'weight': 5}), (531, 548, {'weight': 7}), (254, 88, {'weight': 1}), (254, 564, {'weight': 8}), (564, 254, {'weight': 6}), (256, 553, {'weight': 5}), (553, 256, {'weight': 4}), (260, 459, {'weight': 3}), (459, 260, {'weight': 4}), (459, 805, {'weight': 1}), (374, 263, {'weight': 1}), (374, 297, {'weight': 3}), (265, 687, {'weight': 2}), (687, 310, {'weight': 2}), (267, 269, {'weight': 2}), (267, 403, {'weight': 1}), (269, 267, {'weight': 1}), (269, 403, {'weight': 1}), (403, 267, {'weight': 3}), (403, 269, {'weight': 2}), (403, 543, {'weight': 5}), (521, 268, {'weight': 10}), (521, 358, {'weight': 3}), (312, 272, {'weight': 5}), (273, 397, {'weight': 2}), (273, 585, {'weight': 3}), (632, 274, {'weight': 53}), (632, 285, {'weight': 2}), (632, 491, {'weight': 1}), (335, 278, {'weight': 33}), (335, 414, {'weight': 17}), (279, 617, {'weight': 540}), (617, 279, {'weight': 503}), (617, 391, {'weight': 30}), (282, 455, {'weight': 2}), (283, 441, {'weight': 2}), (283, 580, {'weight': 5}), (441, 283, {'weight': 1}), (441, 580, {'weight': 2}), (580, 283, {'weight': 7}), (580, 441, {'weight': 2}), (580, 759, {'weight': 9}), (284, 449, {'weight': 1}), (285, 632, {'weight': 2}), (289, 578, {'weight': 41}), (289, 752, {'weight': 4}), (752, 289, {'weight': 2}), (752, 457, {'weight': 2}), (291, 477, {'weight': 16}), (291, 589, {'weight': 2}), (477, 291, {'weight': 16}), (589, 291, {'weight': 2}), (589, 588, {'weight': 1}), (292, 325, {'weight': 1}), (292, 427, {'weight': 1}), (427, 325, {'weight': 2}), (296, 481, {'weight': 208}), (297, 374, {'weight': 4}), (300, 301, {'weight': 24}), (300, 371, {'weight': 6}), (300, 743, {'weight': 4}), (301, 300, {'weight': 25}), (474, 304, {'weight': 4}), (474, 639, {'weight': 10}), (306, 696, {'weight': 1}), (696, 306, {'weight': 1}), (527, 314, {'weight': 13}), (695, 215, {'weight': 1}), (695, 317, {'weight': 3}), (321, 322, {'weight': 18}), (322, 321, {'weight': 10}), (330, 682, {'weight': 2}), (682, 330, {'weight': 2}), (682, 383, {'weight': 5}), (414, 335, {'weight': 15}), (336, 541, {'weight': 1}), (541, 336, {'weight': 2}), (541, 351, {'weight': 14}), (541, 367, {'weight': 3}), (339, 379, {'weight': 1}), (339, 584, {'weight': 5}), (379, 339, {'weight': 1}), (379, 584, {'weight': 3}), (584, 339, {'weight': 5}), (584, 379, {'weight': 3}), (340, 601, {'weight': 15}), (601, 340, {'weight': 21}), (720, 342, {'weight': 5}), (670, 344, {'weight': 11}), (350, 786, {'weight': 4}), (351, 28, {'weight': 1}), (351, 541, {'weight': 26}), (352, 468, {'weight': 2}), (354, 666, {'weight': 1}), (666, 354, {'weight': 2}), (355, 538, {'weight': 1}), (538, 355, {'weight': 2}), (359, 560, {'weight': 2}), (362, 495, {'weight': 2}), (495, 362, {'weight': 2}), (495, 420, {'weight': 11}), (367, 541, {'weight': 3}), (368, 391, {'weight': 2}), (391, 368, {'weight': 1}), (391, 617, {'weight': 24}), (370, 512, {'weight': 10}), (383, 682, {'weight': 8}), (388, 195, {'weight': 1}), (388, 481, {'weight': 3}), (388, 506, {'weight': 12}), (390, 683, {'weight': 16}), (683, 390, {'weight': 12}), (394, 551, {'weight': 1}), (396, 641, {'weight': 1}), (399, 469, {'weight': 1}), (469, 399, {'weight': 1}), (402, 444, {'weight': 1}), (444, 482, {'weight': 2}), (444, 801, {'weight': 1}), (543, 267, {'weight': 1}), (543, 269, {'weight': 1}), (543, 403, {'weight': 4}), (409, 448, {'weight': 7}), (412, 466, {'weight': 2}), (416, 552, {'weight': 1}), (552, 416, {'weight': 2}), (420, 495, {'weight': 6}), (422, 491, {'weight': 2}), (435, 782, {'weight': 3}), (782, 435, {'weight': 5}), (482, 444, {'weight': 4}), (801, 444, {'weight': 1}), (446, 106, {'weight': 1}), (619, 457, {'weight': 2}), (461, 81, {'weight': 1}), (465, 569, {'weight': 7}), (569, 190, {'weight': 1}), (569, 465, {'weight': 25}), (689, 466, {'weight': 1}), (470, 678, {'weight': 1}), (473, 636, {'weight': 2}), (636, 473, {'weight': 2}), (639, 474, {'weight': 9}), (556, 480, {'weight': 3}), (499, 600, {'weight': 2}), (600, 499, {'weight': 1}), (505, 572, {'weight': 6}), (507, 615, {'weight': 6}), (615, 507, {'weight': 8}), (524, 311, {'weight': 1}), (548, 531, {'weight': 5}), (532, 13, {'weight': 1}), (535, 614, {'weight': 2}), (614, 535, {'weight': 1}), (539, 526, {'weight': 3}), (547, 771, {'weight': 4}), (771, 547, {'weight': 3}), (554, 638, {'weight': 2}), (638, 554, {'weight': 3}), (558, 557, {'weight': 3}), (736, 560, {'weight': 4}), (631, 561, {'weight': 3}), (571, 556, {'weight': 1}), (759, 580, {'weight': 6}), (586, 774, {'weight': 5}), (774, 586, {'weight': 5}), (588, 589, {'weight': 2}), (596, 703, {'weight': 6}), (703, 596, {'weight': 6}), (598, 70, {'weight': 1}), (598, 657, {'weight': 1}), (623, 651, {'weight': 9}), (651, 623, {'weight': 26}), (634, 681, {'weight': 4}), (681, 634, {'weight': 3}), (652, 677, {'weight': 20}), (677, 652, {'weight': 23}), (699, 658, {'weight': 3}), (663, 519, {'weight': 1}), (671, 813, {'weight': 6}), (813, 671, {'weight': 6}), (799, 549, {'weight': 1}), (800, 371, {'weight': 1})])"
      ]
     },
     "execution_count": 23,
     "metadata": {},
     "output_type": "execute_result"
    }
   ],
   "source": [
    "D_sms_week1.edges(data=True)"
   ]
  },
  {
   "cell_type": "code",
   "execution_count": 24,
   "id": "3315f576",
   "metadata": {},
   "outputs": [
    {
     "data": {
      "image/png": "[encoded data removed]",
      "text/plain": [
       "<Figure size 432x288 with 1 Axes>"
      ]
     },
     "metadata": {},
     "output_type": "display_data"
    }
   ],
   "source": [
    "nx.draw_networkx(G=D_sms_week1, node_size=10, with_labels = False)"
   ]
  },
  {
   "cell_type": "markdown",
   "id": "b9d68f50",
   "metadata": {},
   "source": [
    "#### Node attributes\n",
    "\n",
    "{0: 'male', 1: 'female', 2: 'unknown'}"
   ]
  },
  {
   "cell_type": "code",
   "execution_count": 25,
   "id": "7ae79a1a",
   "metadata": {},
   "outputs": [
    {
     "data": {
      "text/html": [
       "<div>\n",
       "<style scoped>\n",
       "    .dataframe tbody tr th:only-of-type {\n",
       "        vertical-align: middle;\n",
       "    }\n",
       "\n",
       "    .dataframe tbody tr th {\n",
       "        vertical-align: top;\n",
       "    }\n",
       "\n",
       "    .dataframe thead th {\n",
       "        text-align: right;\n",
       "    }\n",
       "</style>\n",
       "<table border=\"1\" class=\"dataframe\">\n",
       "  <thead>\n",
       "    <tr style=\"text-align: right;\">\n",
       "      <th></th>\n",
       "      <th>user</th>\n",
       "      <th>sex</th>\n",
       "    </tr>\n",
       "  </thead>\n",
       "  <tbody>\n",
       "    <tr>\n",
       "      <th>840</th>\n",
       "      <td>845</td>\n",
       "      <td>0</td>\n",
       "    </tr>\n",
       "    <tr>\n",
       "      <th>841</th>\n",
       "      <td>846</td>\n",
       "      <td>0</td>\n",
       "    </tr>\n",
       "    <tr>\n",
       "      <th>842</th>\n",
       "      <td>847</td>\n",
       "      <td>1</td>\n",
       "    </tr>\n",
       "    <tr>\n",
       "      <th>843</th>\n",
       "      <td>848</td>\n",
       "      <td>2</td>\n",
       "    </tr>\n",
       "    <tr>\n",
       "      <th>844</th>\n",
       "      <td>850</td>\n",
       "      <td>2</td>\n",
       "    </tr>\n",
       "  </tbody>\n",
       "</table>\n",
       "</div>"
      ],
      "text/plain": [
       "     user  sex\n",
       "840   845    0\n",
       "841   846    0\n",
       "842   847    1\n",
       "843   848    2\n",
       "844   850    2"
      ]
     },
     "execution_count": 25,
     "metadata": {},
     "output_type": "execute_result"
    }
   ],
   "source": [
    "nodelist = pd.read_csv('data/nodelist.csv')\n",
    "nodelist.tail()"
   ]
  },
  {
   "cell_type": "code",
   "execution_count": 26,
   "id": "bffd8f96",
   "metadata": {},
   "outputs": [
    {
     "data": {
      "text/html": [
       "<div>\n",
       "<style scoped>\n",
       "    .dataframe tbody tr th:only-of-type {\n",
       "        vertical-align: middle;\n",
       "    }\n",
       "\n",
       "    .dataframe tbody tr th {\n",
       "        vertical-align: top;\n",
       "    }\n",
       "\n",
       "    .dataframe thead th {\n",
       "        text-align: right;\n",
       "    }\n",
       "</style>\n",
       "<table border=\"1\" class=\"dataframe\">\n",
       "  <thead>\n",
       "    <tr style=\"text-align: right;\">\n",
       "      <th></th>\n",
       "      <th>user</th>\n",
       "      <th>sex</th>\n",
       "    </tr>\n",
       "    <tr>\n",
       "      <th>user</th>\n",
       "      <th></th>\n",
       "      <th></th>\n",
       "    </tr>\n",
       "  </thead>\n",
       "  <tbody>\n",
       "    <tr>\n",
       "      <th>845</th>\n",
       "      <td>845</td>\n",
       "      <td>0</td>\n",
       "    </tr>\n",
       "    <tr>\n",
       "      <th>846</th>\n",
       "      <td>846</td>\n",
       "      <td>0</td>\n",
       "    </tr>\n",
       "    <tr>\n",
       "      <th>847</th>\n",
       "      <td>847</td>\n",
       "      <td>1</td>\n",
       "    </tr>\n",
       "    <tr>\n",
       "      <th>848</th>\n",
       "      <td>848</td>\n",
       "      <td>2</td>\n",
       "    </tr>\n",
       "    <tr>\n",
       "      <th>850</th>\n",
       "      <td>850</td>\n",
       "      <td>2</td>\n",
       "    </tr>\n",
       "  </tbody>\n",
       "</table>\n",
       "</div>"
      ],
      "text/plain": [
       "      user  sex\n",
       "user           \n",
       "845    845    0\n",
       "846    846    0\n",
       "847    847    1\n",
       "848    848    2\n",
       "850    850    2"
      ]
     },
     "execution_count": 26,
     "metadata": {},
     "output_type": "execute_result"
    }
   ],
   "source": [
    "nodelist = nodelist.set_index('user', drop=False)\n",
    "nodelist.tail()"
   ]
  },
  {
   "cell_type": "code",
   "execution_count": 27,
   "id": "f6ac0ed5",
   "metadata": {},
   "outputs": [],
   "source": [
    "for v in D_sms_week1.nodes:\n",
    "    D_sms_week1.nodes[v]['sex'] = nodelist.loc[v, 'sex']"
   ]
  },
  {
   "cell_type": "code",
   "execution_count": 28,
   "id": "3941f845",
   "metadata": {},
   "outputs": [
    {
     "data": {
      "text/plain": [
       "NodeDataView({0: {'sex': 0}, 512: {'sex': 1}, 1: {'sex': 2}, 345: {'sex': 0}, 3: {'sex': 0}, 49: {'sex': 0}, 357: {'sex': 1}, 4: {'sex': 0}, 221: {'sex': 0}, 266: {'sex': 0}, 344: {'sex': 0}, 424: {'sex': 0}, 5: {'sex': 0}, 802: {'sex': 0}, 6: {'sex': 1}, 27: {'sex': 0}, 8: {'sex': 0}, 419: {'sex': 0}, 557: {'sex': 1}, 9: {'sex': 0}, 669: {'sex': 0}, 12: {'sex': 0}, 13: {'sex': 0}, 492: {'sex': 0}, 658: {'sex': 0}, 18: {'sex': 0}, 276: {'sex': 0}, 488: {'sex': 0}, 570: {'sex': 0}, 19: {'sex': 0}, 47: {'sex': 0}, 595: {'sex': 0}, 20: {'sex': 0}, 21: {'sex': 1}, 23: {'sex': 0}, 51: {'sex': 1}, 24: {'sex': 0}, 82: {'sex': 0}, 371: {'sex': 1}, 616: {'sex': 0}, 28: {'sex': 0}, 317: {'sex': 0}, 31: {'sex': 2}, 76: {'sex': 0}, 278: {'sex': 0}, 33: {'sex': 0}, 242: {'sex': 0}, 35: {'sex': 0}, 43: {'sex': 0}, 36: {'sex': 1}, 37: {'sex': 0}, 401: {'sex': 0}, 39: {'sex': 0}, 118: {'sex': 0}, 257: {'sex': 2}, 331: {'sex': 2}, 457: {'sex': 0}, 545: {'sex': 1}, 622: {'sex': 1}, 707: {'sex': 1}, 46: {'sex': 1}, 484: {'sex': 1}, 700: {'sex': 1}, 449: {'sex': 0}, 48: {'sex': 1}, 171: {'sex': 0}, 75: {'sex': 1}, 52: {'sex': 0}, 324: {'sex': 0}, 55: {'sex': 0}, 235: {'sex': 1}, 56: {'sex': 2}, 506: {'sex': 0}, 58: {'sex': 0}, 672: {'sex': 0}, 59: {'sex': 0}, 438: {'sex': 0}, 61: {'sex': 1}, 274: {'sex': 1}, 63: {'sex': 0}, 805: {'sex': 0}, 64: {'sex': 0}, 90: {'sex': 1}, 204: {'sex': 0}, 69: {'sex': 0}, 151: {'sex': 1}, 74: {'sex': 1}, 217: {'sex': 1}, 154: {'sex': 1}, 342: {'sex': 1}, 88: {'sex': 0}, 572: {'sex': 0}, 89: {'sex': 0}, 341: {'sex': 0}, 91: {'sex': 0}, 358: {'sex': 1}, 472: {'sex': 0}, 92: {'sex': 0}, 386: {'sex': 0}, 567: {'sex': 0}, 93: {'sex': 1}, 481: {'sex': 1}, 95: {'sex': 0}, 551: {'sex': 0}, 640: {'sex': 0}, 96: {'sex': 1}, 780: {'sex': 1}, 97: {'sex': 0}, 141: {'sex': 0}, 333: {'sex': 0}, 578: {'sex': 0}, 100: {'sex': 1}, 177: {'sex': 1}, 218: {'sex': 1}, 568: {'sex': 0}, 743: {'sex': 1}, 102: {'sex': 0}, 364: {'sex': 0}, 104: {'sex': 1}, 275: {'sex': 1}, 288: {'sex': 0}, 373: {'sex': 0}, 108: {'sex': 0}, 268: {'sex': 0}, 798: {'sex': 0}, 109: {'sex': 2}, 308: {'sex': 1}, 114: {'sex': 0}, 376: {'sex': 0}, 748: {'sex': 2}, 115: {'sex': 0}, 475: {'sex': 0}, 116: {'sex': 0}, 468: {'sex': 0}, 628: {'sex': 0}, 119: {'sex': 0}, 175: {'sex': 2}, 120: {'sex': 0}, 314: {'sex': 0}, 121: {'sex': 0}, 123: {'sex': 1}, 480: {'sex': 0}, 128: {'sex': 0}, 208: {'sex': 0}, 786: {'sex': 0}, 845: {'sex': 0}, 129: {'sex': 0}, 455: {'sex': 0}, 131: {'sex': 1}, 280: {'sex': 0}, 133: {'sex': 0}, 237: {'sex': 0}, 299: {'sex': 0}, 135: {'sex': 1}, 605: {'sex': 2}, 136: {'sex': 0}, 137: {'sex': 1}, 176: {'sex': 1}, 139: {'sex': 0}, 546: {'sex': 1}, 140: {'sex': 0}, 830: {'sex': 0}, 143: {'sex': 2}, 310: {'sex': 0}, 144: {'sex': 0}, 560: {'sex': 0}, 145: {'sex': 0}, 146: {'sex': 1}, 458: {'sex': 2}, 611: {'sex': 1}, 147: {'sex': 0}, 149: {'sex': 0}, 448: {'sex': 0}, 152: {'sex': 0}, 405: {'sex': 1}, 157: {'sex': 1}, 772: {'sex': 1}, 158: {'sex': 1}, 415: {'sex': 1}, 688: {'sex': 2}, 161: {'sex': 0}, 549: {'sex': 0}, 163: {'sex': 0}, 164: {'sex': 1}, 304: {'sex': 0}, 494: {'sex': 0}, 165: {'sex': 1}, 166: {'sex': 2}, 272: {'sex': 0}, 485: {'sex': 0}, 167: {'sex': 0}, 423: {'sex': 0}, 170: {'sex': 0}, 213: {'sex': 0}, 843: {'sex': 2}, 437: {'sex': 0}, 172: {'sex': 0}, 173: {'sex': 0}, 211: {'sex': 1}, 466: {'sex': 0}, 561: {'sex': 0}, 174: {'sex': 1}, 227: {'sex': 0}, 486: {'sex': 1}, 178: {'sex': 0}, 271: {'sex': 0}, 179: {'sex': 0}, 193: {'sex': 0}, 812: {'sex': 1}, 183: {'sex': 1}, 685: {'sex': 0}, 187: {'sex': 1}, 192: {'sex': 0}, 203: {'sex': 0}, 372: {'sex': 0}, 194: {'sex': 0}, 294: {'sex': 0}, 537: {'sex': 0}, 197: {'sex': 1}, 225: {'sex': 1}, 200: {'sex': 0}, 711: {'sex': 0}, 202: {'sex': 2}, 697: {'sex': 0}, 207: {'sex': 0}, 491: {'sex': 0}, 210: {'sex': 0}, 356: {'sex': 0}, 212: {'sex': 0}, 397: {'sex': 0}, 382: {'sex': 0}, 220: {'sex': 0}, 464: {'sex': 1}, 263: {'sex': 1}, 337: {'sex': 0}, 574: {'sex': 0}, 436: {'sex': 0}, 229: {'sex': 0}, 503: {'sex': 0}, 234: {'sex': 0}, 645: {'sex': 1}, 236: {'sex': 0}, 657: {'sex': 0}, 243: {'sex': 0}, 714: {'sex': 0}, 244: {'sex': 0}, 454: {'sex': 2}, 250: {'sex': 0}, 531: {'sex': 0}, 254: {'sex': 0}, 564: {'sex': 0}, 256: {'sex': 0}, 553: {'sex': 0}, 260: {'sex': 1}, 459: {'sex': 0}, 374: {'sex': 0}, 265: {'sex': 1}, 687: {'sex': 0}, 785: {'sex': 0}, 267: {'sex': 0}, 269: {'sex': 0}, 403: {'sex': 0}, 521: {'sex': 1}, 312: {'sex': 2}, 273: {'sex': 0}, 585: {'sex': 0}, 632: {'sex': 0}, 335: {'sex': 1}, 279: {'sex': 0}, 617: {'sex': 1}, 282: {'sex': 0}, 283: {'sex': 0}, 441: {'sex': 0}, 580: {'sex': 0}, 284: {'sex': 1}, 285: {'sex': 0}, 289: {'sex': 0}, 752: {'sex': 1}, 291: {'sex': 1}, 477: {'sex': 1}, 589: {'sex': 1}, 292: {'sex': 0}, 325: {'sex': 0}, 427: {'sex': 0}, 296: {'sex': 1}, 297: {'sex': 0}, 300: {'sex': 1}, 301: {'sex': 0}, 474: {'sex': 0}, 306: {'sex': 0}, 696: {'sex': 0}, 527: {'sex': 0}, 695: {'sex': 0}, 321: {'sex': 1}, 322: {'sex': 2}, 330: {'sex': 1}, 682: {'sex': 1}, 414: {'sex': 1}, 336: {'sex': 0}, 541: {'sex': 0}, 339: {'sex': 0}, 379: {'sex': 0}, 584: {'sex': 0}, 340: {'sex': 0}, 601: {'sex': 0}, 720: {'sex': 1}, 670: {'sex': 0}, 350: {'sex': 0}, 351: {'sex': 0}, 352: {'sex': 0}, 354: {'sex': 1}, 666: {'sex': 1}, 355: {'sex': 1}, 538: {'sex': 0}, 185: {'sex': 0}, 359: {'sex': 0}, 362: {'sex': 0}, 495: {'sex': 0}, 367: {'sex': 0}, 368: {'sex': 1}, 391: {'sex': 0}, 370: {'sex': 0}, 383: {'sex': 1}, 388: {'sex': 0}, 195: {'sex': 1}, 390: {'sex': 0}, 683: {'sex': 0}, 394: {'sex': 1}, 396: {'sex': 0}, 641: {'sex': 0}, 399: {'sex': 0}, 469: {'sex': 1}, 190: {'sex': 0}, 402: {'sex': 0}, 444: {'sex': 0}, 543: {'sex': 0}, 409: {'sex': 0}, 412: {'sex': 0}, 416: {'sex': 1}, 552: {'sex': 0}, 420: {'sex': 0}, 422: {'sex': 0}, 348: {'sex': 0}, 435: {'sex': 0}, 782: {'sex': 0}, 482: {'sex': 0}, 801: {'sex': 0}, 446: {'sex': 0}, 106: {'sex': 0}, 619: {'sex': 0}, 461: {'sex': 0}, 81: {'sex': 0}, 465: {'sex': 0}, 569: {'sex': 1}, 689: {'sex': 0}, 470: {'sex': 1}, 678: {'sex': 0}, 473: {'sex': 0}, 636: {'sex': 0}, 639: {'sex': 0}, 556: {'sex': 1}, 499: {'sex': 1}, 600: {'sex': 1}, 505: {'sex': 0}, 507: {'sex': 1}, 615: {'sex': 1}, 524: {'sex': 1}, 311: {'sex': 1}, 548: {'sex': 0}, 532: {'sex': 0}, 535: {'sex': 0}, 614: {'sex': 1}, 539: {'sex': 0}, 526: {'sex': 0}, 547: {'sex': 0}, 771: {'sex': 0}, 554: {'sex': 0}, 638: {'sex': 0}, 558: {'sex': 1}, 736: {'sex': 0}, 631: {'sex': 0}, 676: {'sex': 0}, 571: {'sex': 1}, 759: {'sex': 0}, 586: {'sex': 0}, 774: {'sex': 0}, 588: {'sex': 1}, 596: {'sex': 0}, 703: {'sex': 0}, 598: {'sex': 0}, 70: {'sex': 0}, 623: {'sex': 0}, 651: {'sex': 1}, 634: {'sex': 1}, 681: {'sex': 0}, 652: {'sex': 1}, 677: {'sex': 1}, 699: {'sex': 0}, 663: {'sex': 0}, 519: {'sex': 0}, 671: {'sex': 0}, 813: {'sex': 0}, 215: {'sex': 0}, 799: {'sex': 0}, 800: {'sex': 0}})"
      ]
     },
     "execution_count": 28,
     "metadata": {},
     "output_type": "execute_result"
    }
   ],
   "source": [
    "D_sms_week1.nodes(data=True)"
   ]
  },
  {
   "cell_type": "markdown",
   "id": "76862bc1",
   "metadata": {},
   "source": [
    "#### Components"
   ]
  },
  {
   "cell_type": "markdown",
   "id": "93627735",
   "metadata": {},
   "source": [
    "Graph-theoretically, each isolated node as well as the main part is a subgraph in which the nodes are reachable via edges. Such a subgraph is called a connected component. "
   ]
  },
  {
   "cell_type": "code",
   "execution_count": 29,
   "id": "1b46b55f",
   "metadata": {},
   "outputs": [
    {
     "data": {
      "text/plain": [
       "False"
      ]
     },
     "execution_count": 29,
     "metadata": {},
     "output_type": "execute_result"
    }
   ],
   "source": [
    "nx.is_weakly_connected(G=D_sms_week1)"
   ]
  },
  {
   "cell_type": "code",
   "execution_count": 30,
   "id": "be8715f4",
   "metadata": {},
   "outputs": [
    {
     "data": {
      "text/plain": [
       "92"
      ]
     },
     "execution_count": 30,
     "metadata": {},
     "output_type": "execute_result"
    }
   ],
   "source": [
    "nx.number_weakly_connected_components(G=D_sms_week1)"
   ]
  },
  {
   "cell_type": "code",
   "execution_count": 31,
   "id": "b9253b54",
   "metadata": {},
   "outputs": [
    {
     "data": {
      "text/plain": [
       "<generator object weakly_connected_components at 0x000001EA10FED7B0>"
      ]
     },
     "execution_count": 31,
     "metadata": {},
     "output_type": "execute_result"
    }
   ],
   "source": [
    "cc_sms_week1 = nx.weakly_connected_components(D_sms_week1)\n",
    "cc_sms_week1"
   ]
  },
  {
   "cell_type": "code",
   "execution_count": 32,
   "id": "bf86a2dc",
   "metadata": {},
   "outputs": [
    {
     "data": {
      "text/plain": [
       "{0,\n",
       " 4,\n",
       " 6,\n",
       " 27,\n",
       " 36,\n",
       " 37,\n",
       " 39,\n",
       " 52,\n",
       " 55,\n",
       " 64,\n",
       " 69,\n",
       " 70,\n",
       " 90,\n",
       " 91,\n",
       " 97,\n",
       " 100,\n",
       " 104,\n",
       " 108,\n",
       " 109,\n",
       " 118,\n",
       " 121,\n",
       " 133,\n",
       " 136,\n",
       " 137,\n",
       " 141,\n",
       " 145,\n",
       " 146,\n",
       " 151,\n",
       " 152,\n",
       " 157,\n",
       " 158,\n",
       " 165,\n",
       " 166,\n",
       " 176,\n",
       " 177,\n",
       " 190,\n",
       " 194,\n",
       " 204,\n",
       " 218,\n",
       " 221,\n",
       " 234,\n",
       " 235,\n",
       " 236,\n",
       " 237,\n",
       " 257,\n",
       " 263,\n",
       " 266,\n",
       " 268,\n",
       " 272,\n",
       " 275,\n",
       " 288,\n",
       " 289,\n",
       " 294,\n",
       " 297,\n",
       " 299,\n",
       " 300,\n",
       " 301,\n",
       " 308,\n",
       " 312,\n",
       " 324,\n",
       " 331,\n",
       " 333,\n",
       " 344,\n",
       " 348,\n",
       " 358,\n",
       " 370,\n",
       " 371,\n",
       " 373,\n",
       " 374,\n",
       " 382,\n",
       " 401,\n",
       " 405,\n",
       " 415,\n",
       " 424,\n",
       " 457,\n",
       " 458,\n",
       " 465,\n",
       " 472,\n",
       " 485,\n",
       " 486,\n",
       " 512,\n",
       " 521,\n",
       " 537,\n",
       " 545,\n",
       " 568,\n",
       " 569,\n",
       " 578,\n",
       " 598,\n",
       " 611,\n",
       " 616,\n",
       " 619,\n",
       " 622,\n",
       " 645,\n",
       " 657,\n",
       " 670,\n",
       " 688,\n",
       " 707,\n",
       " 743,\n",
       " 752,\n",
       " 772,\n",
       " 785,\n",
       " 798,\n",
       " 800}"
      ]
     },
     "execution_count": 32,
     "metadata": {},
     "output_type": "execute_result"
    }
   ],
   "source": [
    "next(cc_sms_week1)"
   ]
  },
  {
   "cell_type": "code",
   "execution_count": 33,
   "id": "68ad64e8",
   "metadata": {},
   "outputs": [
    {
     "data": {
      "text/plain": [
       "[{0,\n",
       "  4,\n",
       "  6,\n",
       "  27,\n",
       "  36,\n",
       "  37,\n",
       "  39,\n",
       "  52,\n",
       "  55,\n",
       "  64,\n",
       "  69,\n",
       "  70,\n",
       "  90,\n",
       "  91,\n",
       "  97,\n",
       "  100,\n",
       "  104,\n",
       "  108,\n",
       "  109,\n",
       "  118,\n",
       "  121,\n",
       "  133,\n",
       "  136,\n",
       "  137,\n",
       "  141,\n",
       "  145,\n",
       "  146,\n",
       "  151,\n",
       "  152,\n",
       "  157,\n",
       "  158,\n",
       "  165,\n",
       "  166,\n",
       "  176,\n",
       "  177,\n",
       "  190,\n",
       "  194,\n",
       "  204,\n",
       "  218,\n",
       "  221,\n",
       "  234,\n",
       "  235,\n",
       "  236,\n",
       "  237,\n",
       "  257,\n",
       "  263,\n",
       "  266,\n",
       "  268,\n",
       "  272,\n",
       "  275,\n",
       "  288,\n",
       "  289,\n",
       "  294,\n",
       "  297,\n",
       "  299,\n",
       "  300,\n",
       "  301,\n",
       "  308,\n",
       "  312,\n",
       "  324,\n",
       "  331,\n",
       "  333,\n",
       "  344,\n",
       "  348,\n",
       "  358,\n",
       "  370,\n",
       "  371,\n",
       "  373,\n",
       "  374,\n",
       "  382,\n",
       "  401,\n",
       "  405,\n",
       "  415,\n",
       "  424,\n",
       "  457,\n",
       "  458,\n",
       "  465,\n",
       "  472,\n",
       "  485,\n",
       "  486,\n",
       "  512,\n",
       "  521,\n",
       "  537,\n",
       "  545,\n",
       "  568,\n",
       "  569,\n",
       "  578,\n",
       "  598,\n",
       "  611,\n",
       "  616,\n",
       "  619,\n",
       "  622,\n",
       "  645,\n",
       "  657,\n",
       "  670,\n",
       "  688,\n",
       "  707,\n",
       "  743,\n",
       "  752,\n",
       "  772,\n",
       "  785,\n",
       "  798,\n",
       "  800},\n",
       " {61,\n",
       "  128,\n",
       "  149,\n",
       "  208,\n",
       "  256,\n",
       "  274,\n",
       "  285,\n",
       "  350,\n",
       "  409,\n",
       "  422,\n",
       "  448,\n",
       "  491,\n",
       "  553,\n",
       "  632,\n",
       "  786,\n",
       "  845},\n",
       " {23, 51, 75, 129, 154, 179, 193, 282, 342, 372, 455, 720, 812},\n",
       " {12, 13, 88, 147, 254, 492, 505, 532, 564, 572, 658, 699},\n",
       " {173, 183, 211, 412, 466, 561, 631, 685, 689},\n",
       " {28, 215, 317, 336, 351, 367, 541, 695},\n",
       " {56, 93, 195, 296, 388, 481, 506},\n",
       " {3, 48, 49, 171, 357, 437},\n",
       " {18, 33, 242, 276, 488, 570},\n",
       " {58, 139, 229, 503, 546, 672},\n",
       " {163, 164, 304, 474, 494, 639},\n",
       " {19, 47, 284, 449, 595},\n",
       " {31, 76, 278, 335, 414},\n",
       " {95, 172, 394, 551, 640},\n",
       " {144, 207, 359, 560, 736},\n",
       " {8, 419, 557, 558},\n",
       " {63, 260, 459, 805},\n",
       " {92, 386, 567, 676},\n",
       " {116, 352, 468, 628},\n",
       " {123, 480, 556, 571},\n",
       " {143, 265, 310, 687},\n",
       " {197, 225, 337, 574},\n",
       " {212, 273, 397, 585},\n",
       " {267, 269, 403, 543},\n",
       " {279, 368, 391, 617},\n",
       " {283, 441, 580, 759},\n",
       " {291, 477, 588, 589},\n",
       " {402, 444, 482, 801},\n",
       " {46, 484, 700},\n",
       " {96, 187, 780},\n",
       " {114, 376, 748},\n",
       " {120, 314, 527},\n",
       " {161, 549, 799},\n",
       " {170, 213, 843},\n",
       " {174, 227, 436},\n",
       " {185, 210, 356},\n",
       " {250, 531, 548},\n",
       " {292, 325, 427},\n",
       " {330, 383, 682},\n",
       " {339, 379, 584},\n",
       " {362, 420, 495},\n",
       " {1, 345},\n",
       " {5, 802},\n",
       " {9, 669},\n",
       " {20, 21},\n",
       " {24, 82},\n",
       " {35, 43},\n",
       " {59, 438},\n",
       " {74, 217},\n",
       " {89, 341},\n",
       " {102, 364},\n",
       " {115, 475},\n",
       " {119, 175},\n",
       " {131, 280},\n",
       " {135, 605},\n",
       " {140, 830},\n",
       " {167, 423},\n",
       " {178, 271},\n",
       " {192, 203},\n",
       " {200, 711},\n",
       " {202, 697},\n",
       " {220, 464},\n",
       " {243, 714},\n",
       " {244, 454},\n",
       " {306, 696},\n",
       " {321, 322},\n",
       " {340, 601},\n",
       " {354, 666},\n",
       " {355, 538},\n",
       " {390, 683},\n",
       " {396, 641},\n",
       " {399, 469},\n",
       " {416, 552},\n",
       " {435, 782},\n",
       " {106, 446},\n",
       " {81, 461},\n",
       " {470, 678},\n",
       " {473, 636},\n",
       " {499, 600},\n",
       " {507, 615},\n",
       " {311, 524},\n",
       " {535, 614},\n",
       " {526, 539},\n",
       " {547, 771},\n",
       " {554, 638},\n",
       " {586, 774},\n",
       " {596, 703},\n",
       " {623, 651},\n",
       " {634, 681},\n",
       " {652, 677},\n",
       " {519, 663},\n",
       " {671, 813}]"
      ]
     },
     "execution_count": 33,
     "metadata": {},
     "output_type": "execute_result"
    }
   ],
   "source": [
    "cc_sms_week1 = sorted(nx.weakly_connected_components(D_sms_week1), key=len, reverse=True)\n",
    "cc_sms_week1"
   ]
  },
  {
   "cell_type": "code",
   "execution_count": 34,
   "id": "d661946c",
   "metadata": {},
   "outputs": [
    {
     "data": {
      "text/plain": [
       "<networkx.classes.digraph.DiGraph at 0x1ea10fe7b80>"
      ]
     },
     "execution_count": 34,
     "metadata": {},
     "output_type": "execute_result"
    }
   ],
   "source": [
    "D_sms_week1_lcc = D_sms_week1.subgraph(nodes=cc_sms_week1[0])\n",
    "D_sms_week1_lcc"
   ]
  },
  {
   "cell_type": "markdown",
   "id": "4a16dfff",
   "metadata": {},
   "source": [
    "## Network visualization"
   ]
  },
  {
   "cell_type": "code",
   "execution_count": 35,
   "id": "8db2ffa1",
   "metadata": {},
   "outputs": [
    {
     "data": {
      "text/plain": [
       "{0: array([0.21675257, 0.19725877]),\n",
       " 512: array([0.17728155, 0.25149561]),\n",
       " 4: array([0.40198524, 0.10743306]),\n",
       " 6: array([-0.43843039, -0.04884154]),\n",
       " 521: array([ 0.06813069, -0.15303278]),\n",
       " 537: array([ 0.02082425, -0.62056035]),\n",
       " 27: array([-0.36429897, -0.04892877]),\n",
       " 545: array([-0.92032385, -0.65415812]),\n",
       " 36: array([0.1292042 , 0.40726952]),\n",
       " 37: array([0.11474974, 0.45690695]),\n",
       " 39: array([-0.37221841,  0.23223368]),\n",
       " 52: array([ 0.47089039, -0.38438638]),\n",
       " 55: array([0.16686802, 0.26469544]),\n",
       " 568: array([ 0.07604938, -0.23171563]),\n",
       " 569: array([0.05137434, 0.76784003]),\n",
       " 64: array([ 0.11056749, -0.51347898]),\n",
       " 578: array([ 0.05591052, -0.01787405]),\n",
       " 69: array([0.08039047, 0.30733123]),\n",
       " 70: array([-1.        , -0.04402308]),\n",
       " 598: array([-0.74075899, -0.15280896]),\n",
       " 90: array([ 0.07072466, -0.43368392]),\n",
       " 91: array([ 0.09723743, -0.4778195 ]),\n",
       " 97: array([ 0.33775351, -0.22756444]),\n",
       " 611: array([0.07440749, 0.11804412]),\n",
       " 100: array([ 0.10867459, -0.19146446]),\n",
       " 104: array([-0.20718036,  0.38145561]),\n",
       " 616: array([-0.42996624, -0.02073936]),\n",
       " 619: array([-0.34101923,  0.18085829]),\n",
       " 108: array([-0.04642826, -0.02711786]),\n",
       " 109: array([-0.40462319,  0.27883539]),\n",
       " 622: array([-0.44084515,  0.24943849]),\n",
       " 118: array([0.54527604, 0.53359543]),\n",
       " 121: array([-0.12866222,  0.49380553]),\n",
       " 133: array([0.24618116, 0.08215275]),\n",
       " 645: array([0.21000724, 0.39761418]),\n",
       " 136: array([0.18370225, 0.35250999]),\n",
       " 137: array([0.14475095, 0.29774248]),\n",
       " 141: array([ 0.22456471, -0.00664026]),\n",
       " 145: array([0.01245559, 0.26133195]),\n",
       " 146: array([0.04374982, 0.20422101]),\n",
       " 657: array([-0.49056549, -0.27400772]),\n",
       " 151: array([0.05949898, 0.14549086]),\n",
       " 152: array([ 0.31264182, -0.132232  ]),\n",
       " 157: array([-0.1737903 , -0.38903905]),\n",
       " 670: array([ 0.34437889, -0.17819947]),\n",
       " 158: array([ 0.12953931, -0.31487245]),\n",
       " 165: array([-0.15400665, -0.58817734]),\n",
       " 166: array([-0.13105598, -0.52685079]),\n",
       " 176: array([0.11025156, 0.21538553]),\n",
       " 177: array([ 0.03332124, -0.19134452]),\n",
       " 688: array([ 0.20274465, -0.24287653]),\n",
       " 190: array([0.12794521, 0.93028992]),\n",
       " 194: array([ 0.0216643 , -0.70514398]),\n",
       " 707: array([-0.61242974,  0.64586165]),\n",
       " 204: array([ 0.13963231, -0.57009649]),\n",
       " 218: array([-0.04240324, -0.26986054]),\n",
       " 221: array([ 0.54151942, -0.2972096 ]),\n",
       " 743: array([-0.02336852, -0.17055832]),\n",
       " 234: array([-0.22294831, -0.3282945 ]),\n",
       " 235: array([0.17973443, 0.30624769]),\n",
       " 236: array([-0.237278  , -0.39688141]),\n",
       " 237: array([0.22399474, 0.07105011]),\n",
       " 752: array([-0.1847373 ,  0.11167003]),\n",
       " 257: array([-0.55682173,  0.67587025]),\n",
       " 772: array([-0.11708899, -0.33826321]),\n",
       " 263: array([ 0.5652065 , -0.23767123]),\n",
       " 266: array([0.45262851, 0.32448047]),\n",
       " 268: array([ 0.07074402, -0.0139337 ]),\n",
       " 272: array([-0.21195892, -0.56025823]),\n",
       " 785: array([0.72305089, 0.33617205]),\n",
       " 275: array([-0.29110469,  0.34378424]),\n",
       " 798: array([-0.15396772, -0.04516923]),\n",
       " 288: array([-0.07152635,  0.47549771]),\n",
       " 289: array([-0.0691698 ,  0.04819617]),\n",
       " 800: array([-0.3048325 , -0.08566078]),\n",
       " 294: array([ 0.0223899 , -0.76695658]),\n",
       " 297: array([ 0.57254819, -0.12605128]),\n",
       " 299: array([0.2057801 , 0.13362819]),\n",
       " 300: array([-0.15179732, -0.13551245]),\n",
       " 301: array([-0.20937984, -0.15791438]),\n",
       " 308: array([-0.35212217,  0.23330102]),\n",
       " 312: array([-0.26807876, -0.59307925]),\n",
       " 324: array([ 0.5131871 , -0.35137829]),\n",
       " 331: array([-0.59729942,  0.68062278]),\n",
       " 333: array([ 0.64252077, -0.52757397]),\n",
       " 344: array([ 0.34311584, -0.13317325]),\n",
       " 348: array([-0.14208652,  0.91063615]),\n",
       " 358: array([ 0.06891671, -0.29644146]),\n",
       " 370: array([0.207008  , 0.21539294]),\n",
       " 371: array([-0.24328535, -0.07592523]),\n",
       " 373: array([-0.28326227,  0.31278242]),\n",
       " 374: array([ 0.5821445 , -0.17904117]),\n",
       " 382: array([-0.15001688, -0.30362377]),\n",
       " 401: array([0.08787153, 0.55069192]),\n",
       " 405: array([ 0.26558019, -0.18266875]),\n",
       " 415: array([ 0.0473855 , -0.39194376]),\n",
       " 424: array([0.27043164, 0.52709426]),\n",
       " 457: array([-0.29030895,  0.17221719]),\n",
       " 458: array([-0.00802429,  0.23528632]),\n",
       " 465: array([-0.01640315,  0.63493054]),\n",
       " 472: array([ 0.02172562, -0.51957459]),\n",
       " 485: array([-0.03296787, -0.47062364]),\n",
       " 486: array([0.09927561, 0.26227144])}"
      ]
     },
     "execution_count": 35,
     "metadata": {},
     "output_type": "execute_result"
    }
   ],
   "source": [
    "pos_sms_week1_lcc = nx.spring_layout(G=D_sms_week1_lcc, weight=None)\n",
    "pos_sms_week1_lcc"
   ]
  },
  {
   "cell_type": "code",
   "execution_count": 36,
   "id": "72bf3ba5",
   "metadata": {},
   "outputs": [],
   "source": [
    "pos_sms_week1_lcc = nx.kamada_kawai_layout(G=D_sms_week1_lcc, weight=None)"
   ]
  },
  {
   "cell_type": "code",
   "execution_count": 37,
   "id": "0ab361cd",
   "metadata": {},
   "outputs": [],
   "source": [
    "nx.set_node_attributes(G=D_sms_week1_lcc, values=pos_sms_week1_lcc, name='pos')"
   ]
  },
  {
   "cell_type": "code",
   "execution_count": 38,
   "id": "6f275f03",
   "metadata": {},
   "outputs": [
    {
     "data": {
      "text/plain": [
       "[0, 1, 0, 1, 1]"
      ]
     },
     "execution_count": 38,
     "metadata": {},
     "output_type": "execute_result"
    }
   ],
   "source": [
    "node_color_sms_week1_lcc = list(nx.get_node_attributes(G=D_sms_week1_lcc, name='sex').values())\n",
    "node_color_sms_week1_lcc[:5]"
   ]
  },
  {
   "cell_type": "code",
   "execution_count": 39,
   "id": "f6f2cc38",
   "metadata": {},
   "outputs": [],
   "source": [
    "import numpy as np"
   ]
  },
  {
   "cell_type": "code",
   "execution_count": 40,
   "id": "f94253ef",
   "metadata": {},
   "outputs": [
    {
     "data": {
      "text/plain": [
       "[4.526360524616162,\n",
       " 4.637586159726386,\n",
       " 1.0,\n",
       " 3.995732273553991,\n",
       " 5.406719247264253]"
      ]
     },
     "execution_count": 40,
     "metadata": {},
     "output_type": "execute_result"
    }
   ],
   "source": [
    "width_sms_week1_lcc = [np.log(w) + 1 for w in nx.get_edge_attributes(G=D_sms_week1_lcc, name='weight').values()]\n",
    "width_sms_week1_lcc[:5]"
   ]
  },
  {
   "cell_type": "code",
   "execution_count": 41,
   "id": "db83e6e6",
   "metadata": {},
   "outputs": [],
   "source": [
    "import os\n",
    "directory = 'results'\n",
    "if not os.path.exists(directory):\n",
    "    os.makedirs(directory)"
   ]
  },
  {
   "cell_type": "code",
   "execution_count": 42,
   "id": "7f54395e",
   "metadata": {},
   "outputs": [
    {
     "data": {
      "image/png": "[encoded data removed]",
      "text/plain": [
       "<Figure size 432x288 with 1 Axes>"
      ]
     },
     "metadata": {},
     "output_type": "display_data"
    }
   ],
   "source": [
    "nx.draw_networkx(\n",
    "    G = D_sms_week1_lcc, \n",
    "    pos = pos_sms_week1_lcc, \n",
    "    node_size = 40, \n",
    "    node_color = node_color_sms_week1_lcc, \n",
    "    cmap = plt.cm.brg, \n",
    "    with_labels = False,\n",
    "    width = width_sms_week1_lcc\n",
    ")\n",
    "plt.savefig('results/D_sms_week1_lcc.pdf')\n",
    "plt.savefig('results/D_sms_week1_lcc.png')"
   ]
  },
  {
   "cell_type": "markdown",
   "id": "5dea20ce",
   "metadata": {},
   "source": [
    "## Exercise 1: Construct a proximity network\n",
    "\n",
    "The physical proximity relations of the CNS dataset resemble a link stream at high temporal resolution. Physical proximity of two students is measured using the Bluetooth devices of the cell phones handed out to the students. These devices scan their environment every five minutes and record the presence of other phones. All instances of students A and B discovering each other were identified, and the larger signal strength (`rssi`) is reported ([Sapiezynski et al. 2019](https://doi.org/10.1038/s41597-019-0325-x))."
   ]
  },
  {
   "cell_type": "code",
   "execution_count": 43,
   "id": "efb617fa",
   "metadata": {},
   "outputs": [
    {
     "data": {
      "text/html": [
       "<div>\n",
       "<style scoped>\n",
       "    .dataframe tbody tr th:only-of-type {\n",
       "        vertical-align: middle;\n",
       "    }\n",
       "\n",
       "    .dataframe tbody tr th {\n",
       "        vertical-align: top;\n",
       "    }\n",
       "\n",
       "    .dataframe thead th {\n",
       "        text-align: right;\n",
       "    }\n",
       "</style>\n",
       "<table border=\"1\" class=\"dataframe\">\n",
       "  <thead>\n",
       "    <tr style=\"text-align: right;\">\n",
       "      <th></th>\n",
       "      <th># timestamp</th>\n",
       "      <th>user_a</th>\n",
       "      <th>user_b</th>\n",
       "      <th>rssi</th>\n",
       "    </tr>\n",
       "  </thead>\n",
       "  <tbody>\n",
       "    <tr>\n",
       "      <th>0</th>\n",
       "      <td>0</td>\n",
       "      <td>0</td>\n",
       "      <td>-1</td>\n",
       "      <td>0</td>\n",
       "    </tr>\n",
       "    <tr>\n",
       "      <th>1</th>\n",
       "      <td>0</td>\n",
       "      <td>1</td>\n",
       "      <td>-1</td>\n",
       "      <td>0</td>\n",
       "    </tr>\n",
       "    <tr>\n",
       "      <th>2</th>\n",
       "      <td>0</td>\n",
       "      <td>2</td>\n",
       "      <td>-1</td>\n",
       "      <td>0</td>\n",
       "    </tr>\n",
       "    <tr>\n",
       "      <th>3</th>\n",
       "      <td>0</td>\n",
       "      <td>3</td>\n",
       "      <td>-2</td>\n",
       "      <td>-88</td>\n",
       "    </tr>\n",
       "    <tr>\n",
       "      <th>4</th>\n",
       "      <td>0</td>\n",
       "      <td>5</td>\n",
       "      <td>-1</td>\n",
       "      <td>0</td>\n",
       "    </tr>\n",
       "  </tbody>\n",
       "</table>\n",
       "</div>"
      ],
      "text/plain": [
       "   # timestamp  user_a  user_b  rssi\n",
       "0            0       0      -1     0\n",
       "1            0       1      -1     0\n",
       "2            0       2      -1     0\n",
       "3            0       3      -2   -88\n",
       "4            0       5      -1     0"
      ]
     },
     "execution_count": 43,
     "metadata": {},
     "output_type": "execute_result"
    }
   ],
   "source": [
    "edgelist_bt = pd.read_csv('data/bt_symmetric.csv.gz')\n",
    "edgelist_bt.head()"
   ]
  },
  {
   "cell_type": "code",
   "execution_count": 44,
   "id": "86868aeb",
   "metadata": {},
   "outputs": [
    {
     "name": "stdout",
     "output_type": "stream",
     "text": [
      "column names:\n",
      "\t- timestamp\n",
      "\t- user A \n",
      "\t- user B \n",
      "\t- received signal strength\n",
      "\n",
      "Notes:\n",
      "Empty scans are marked with user B = -1 and RSSI = 0\n",
      "Scans of devices outside of the experiment are marked with user B = -2. All non-experiment devices are given the same ID.\n",
      "\n"
     ]
    }
   ],
   "source": [
    "with open('data/bt_symmetric.README', 'r') as f:\n",
    "    print(f.read())"
   ]
  },
  {
   "cell_type": "markdown",
   "id": "6926e1a7",
   "metadata": {},
   "source": [
    "Remove relations involving devices not participating in the experiment:"
   ]
  },
  {
   "cell_type": "code",
   "execution_count": 45,
   "id": "d58aa50f",
   "metadata": {},
   "outputs": [],
   "source": [
    "edgelist_bt = edgelist_bt[edgelist_bt['user_b'] >= 0].reset_index(drop=True)"
   ]
  },
  {
   "cell_type": "markdown",
   "id": "82cd26f0",
   "metadata": {},
   "source": [
    "RSSI is a value between -100 and 0. As a rule of thumb, an RSSI signal strength of -75 means that two devices are 1 meter apart (Mones *et al.* 2017). Values closer to 0 mean devices are also closer. Filter the edgelist to obtain very-close-range proximity:"
   ]
  },
  {
   "cell_type": "code",
   "execution_count": 46,
   "id": "6f9e0417",
   "metadata": {},
   "outputs": [],
   "source": [
    "edgelist_bt = edgelist_bt[edgelist_bt['rssi'] >= -75]"
   ]
  },
  {
   "cell_type": "markdown",
   "id": "497fb0fe",
   "metadata": {},
   "source": [
    "Now aggregate the edges in `edgelist_bt`, starting at `time_zero = 118800` (which is 9am on day 2). Construct a graph from this edgelist and draw it. Experiment with different values for `window_size`. Can you reproduce the finding from the following figure that groups of students are visible for a certain aggregation window?\n",
    "\n",
    "|<img src='https://media.springernature.com/full/springer-static/image/art%3A10.1038%2Fs41597-019-0325-x/MediaObjects/41597_2019_325_Fig5_HTML.png' style='float: none; width: 480px'>|\n",
    "|:--|\n",
    "|<em style='float: center'>**Figure 1**: Temporal aggregation of the Bluetooth network ([Sapiezynski et al. 2019](https://doi.org/10.1038/s41597-019-0325-x)).</em>|"
   ]
  },
  {
   "cell_type": "code",
   "execution_count": 47,
   "id": "afeb4d37",
   "metadata": {},
   "outputs": [
    {
     "data": {
      "text/html": [
       "<div>\n",
       "<style scoped>\n",
       "    .dataframe tbody tr th:only-of-type {\n",
       "        vertical-align: middle;\n",
       "    }\n",
       "\n",
       "    .dataframe tbody tr th {\n",
       "        vertical-align: top;\n",
       "    }\n",
       "\n",
       "    .dataframe thead th {\n",
       "        text-align: right;\n",
       "    }\n",
       "</style>\n",
       "<table border=\"1\" class=\"dataframe\">\n",
       "  <thead>\n",
       "    <tr style=\"text-align: right;\">\n",
       "      <th></th>\n",
       "      <th>user_a</th>\n",
       "      <th>user_b</th>\n",
       "      <th>weight</th>\n",
       "    </tr>\n",
       "  </thead>\n",
       "  <tbody>\n",
       "    <tr>\n",
       "      <th>0</th>\n",
       "      <td>13</td>\n",
       "      <td>12</td>\n",
       "      <td>4</td>\n",
       "    </tr>\n",
       "    <tr>\n",
       "      <th>1</th>\n",
       "      <td>27</td>\n",
       "      <td>6</td>\n",
       "      <td>1</td>\n",
       "    </tr>\n",
       "    <tr>\n",
       "      <th>2</th>\n",
       "      <td>41</td>\n",
       "      <td>6</td>\n",
       "      <td>1</td>\n",
       "    </tr>\n",
       "    <tr>\n",
       "      <th>3</th>\n",
       "      <td>41</td>\n",
       "      <td>27</td>\n",
       "      <td>7</td>\n",
       "    </tr>\n",
       "    <tr>\n",
       "      <th>4</th>\n",
       "      <td>42</td>\n",
       "      <td>5</td>\n",
       "      <td>2</td>\n",
       "    </tr>\n",
       "  </tbody>\n",
       "</table>\n",
       "</div>"
      ],
      "text/plain": [
       "   user_a  user_b  weight\n",
       "0      13      12       4\n",
       "1      27       6       1\n",
       "2      41       6       1\n",
       "3      41      27       7\n",
       "4      42       5       2"
      ]
     },
     "execution_count": 47,
     "metadata": {},
     "output_type": "execute_result"
    }
   ],
   "source": [
    "edgelist_bt_snapshot1 = aggregate_edges(\n",
    "    df = edgelist_bt, \n",
    "    time = '# timestamp', \n",
    "    source = 'user_a', \n",
    "    target = 'user_b', \n",
    "    weight = None, \n",
    "    time_zero = 118800, # for snapshot4: 132900 \n",
    "    window_size = 6900, # for snapshot4: 9300\n",
    "    inclusive = 'left', \n",
    "    fun = 'sum'\n",
    ")\n",
    "edgelist_bt_snapshot1.head()"
   ]
  },
  {
   "cell_type": "code",
   "execution_count": 48,
   "id": "50045df1",
   "metadata": {},
   "outputs": [
    {
     "data": {
      "text/plain": [
       "<networkx.classes.graph.Graph at 0x1ea0f6d09a0>"
      ]
     },
     "execution_count": 48,
     "metadata": {},
     "output_type": "execute_result"
    }
   ],
   "source": [
    "G_bt_snapshot1 = nx.from_pandas_edgelist(\n",
    "    df = edgelist_bt_snapshot1, \n",
    "    source = 'user_a', \n",
    "    target = 'user_b', \n",
    "    edge_attr = 'weight', \n",
    "    create_using = nx.Graph\n",
    ")\n",
    "G_bt_snapshot1"
   ]
  },
  {
   "cell_type": "code",
   "execution_count": 49,
   "id": "57dfc187",
   "metadata": {},
   "outputs": [],
   "source": [
    "pos_bt_snapshot1 = nx.nx_agraph.graphviz_layout(G=G_bt_snapshot1, prog='neato')"
   ]
  },
  {
   "cell_type": "code",
   "execution_count": 50,
   "id": "e7b90464",
   "metadata": {},
   "outputs": [],
   "source": [
    "nx.set_node_attributes(G=G_bt_snapshot1, values=pos_bt_snapshot1, name='pos')"
   ]
  },
  {
   "cell_type": "code",
   "execution_count": 51,
   "id": "d27477b5",
   "metadata": {},
   "outputs": [],
   "source": [
    "for v in G_bt_snapshot1.nodes:\n",
    "    G_bt_snapshot1.nodes[v]['sex'] = nodelist.loc[v, 'sex']"
   ]
  },
  {
   "cell_type": "code",
   "execution_count": 52,
   "id": "15579a33",
   "metadata": {},
   "outputs": [
    {
     "data": {
      "image/png": "[encoded data removed]",
      "text/plain": [
       "<Figure size 432x288 with 1 Axes>"
      ]
     },
     "metadata": {},
     "output_type": "display_data"
    }
   ],
   "source": [
    "nx.draw_networkx(\n",
    "    G = G_bt_snapshot1, \n",
    "    pos = pos_bt_snapshot1, \n",
    "    node_size = 20, \n",
    "    node_color = list(nx.get_node_attributes(G=G_bt_snapshot1, name='sex').values()), \n",
    "    cmap = plt.cm.brg, \n",
    "    with_labels = False,\n",
    "    width = [w/10 for w in nx.get_edge_attributes(G=G_bt_snapshot1, name='weight').values()]\n",
    ")\n",
    "\n",
    "plt.savefig('results/G_bt_snapshot1.pdf')\n",
    "plt.savefig('results/G_bt_snapshot1.png')"
   ]
  },
  {
   "cell_type": "markdown",
   "id": "83ecb118",
   "metadata": {},
   "source": [
    "## Transforming, exporting, and importing networks\n",
    "\n",
    "#### Removing direction of edges"
   ]
  },
  {
   "cell_type": "code",
   "execution_count": 53,
   "id": "04a22841",
   "metadata": {},
   "outputs": [
    {
     "data": {
      "text/plain": [
       "<networkx.classes.graph.Graph at 0x1ea109dd160>"
      ]
     },
     "execution_count": 53,
     "metadata": {},
     "output_type": "execute_result"
    }
   ],
   "source": [
    "D_sms_week1_lcc.to_undirected()"
   ]
  },
  {
   "cell_type": "code",
   "execution_count": 54,
   "id": "6a050fc6",
   "metadata": {},
   "outputs": [],
   "source": [
    "def weighted_digraph_to_graph(G, layered, fun, reciprocal, weight='weight'):\n",
    "    '''\n",
    "    Transforms a weighted directed graph into a weighted undirected network.\n",
    "    \n",
    "    Parameters:\n",
    "        G : DiGraph or MultiDiGraph\n",
    "            Directed network to be transformed.\n",
    "        layered : Boolean\n",
    "            Whether or not G is a MultiDiGraph.\n",
    "        fun : String\n",
    "            Function how edge weights from two edge directions are treated mathematically. Valid functions are 'mean', 'sum', and 'max'.\n",
    "        reciprocal : Boolean\n",
    "            If True only keep edges that appear in both directions in the original DiGraph.\n",
    "        weight : String, default 'weight'\n",
    "            Name of edge attribute.\n",
    "    \n",
    "    Returns:\n",
    "        A weighted Graph.\n",
    "    '''\n",
    "    G = G.copy()\n",
    "    \n",
    "    for u, v, data in G.edges(data=True):\n",
    "        data['diweight'] = data.pop(weight)\n",
    "    \n",
    "    if layered:\n",
    "        for node in G:\n",
    "            for neighbor in nx.neighbors(G, node):\n",
    "                for key in G[node][neighbor].keys():\n",
    "                    if node in nx.neighbors(G, neighbor):\n",
    "                        if key in G[neighbor][node].keys():\n",
    "                            if fun == 'mean':\n",
    "                                G.edges[node, neighbor, key][weight] = (G.edges[node, neighbor, key]['diweight'] + G.edges[neighbor, node, key]['diweight']) / 2\n",
    "                            elif fun == 'sum':\n",
    "                                G.edges[node, neighbor, key][weight] = (G.edges[node, neighbor, key]['diweight'] + G.edges[neighbor, node, key]['diweight'])\n",
    "                            elif fun == 'max':\n",
    "                                G.edges[node, neighbor, key][weight] = max(G.edges[node, neighbor, key]['diweight'], G.edges[neighbor, node, key]['diweight'])\n",
    "                            else:\n",
    "                                raise NotImplementedError(\"Valid functions are 'mean', 'sum', and 'max'.\")\n",
    "                    else:\n",
    "                        G.edges[node, neighbor, key][weight] = G.edges[node, neighbor, key]['diweight']\n",
    "    else:\n",
    "        for node in G:\n",
    "            for neighbor in nx.neighbors(G, node):\n",
    "                if node in nx.neighbors(G, neighbor):\n",
    "                    if fun == 'mean':\n",
    "                        G.edges[node, neighbor][weight] = (G.edges[node, neighbor]['diweight'] + G.edges[neighbor, node]['diweight']) / 2\n",
    "                    elif fun == 'sum':\n",
    "                        G.edges[node, neighbor][weight] = (G.edges[node, neighbor]['diweight'] + G.edges[neighbor, node]['diweight'])\n",
    "                    elif fun == 'max':\n",
    "                        G.edges[node, neighbor][weight] = max(G.edges[node, neighbor]['diweight'], G.edges[neighbor, node]['diweight'])\n",
    "                    else:\n",
    "                        raise NotImplementedError(\"Valid functions are 'mean', 'sum', and 'max'.\")\n",
    "                else:\n",
    "                    G.edges[node, neighbor][weight] = G.edges[node, neighbor]['diweight']\n",
    "    \n",
    "    for u, v, data in G.edges(data=True):\n",
    "        del data['diweight']\n",
    "    \n",
    "    G = G.to_undirected(reciprocal=reciprocal)\n",
    "    \n",
    "    return G"
   ]
  },
  {
   "cell_type": "code",
   "execution_count": 55,
   "id": "eca7f107",
   "metadata": {},
   "outputs": [
    {
     "data": {
      "text/plain": [
       "<networkx.classes.graph.Graph at 0x1ea0eeaf8b0>"
      ]
     },
     "execution_count": 55,
     "metadata": {},
     "output_type": "execute_result"
    }
   ],
   "source": [
    "G_sms_week1_lcc = weighted_digraph_to_graph(G=D_sms_week1_lcc, layered=False, fun='mean', reciprocal=False, weight='weight')\n",
    "G_sms_week1_lcc"
   ]
  },
  {
   "cell_type": "markdown",
   "id": "ef1edfdc",
   "metadata": {},
   "source": [
    "#### Exporting"
   ]
  },
  {
   "cell_type": "code",
   "execution_count": 56,
   "id": "85000699",
   "metadata": {},
   "outputs": [],
   "source": [
    "#nx.write_gexf(G=D_sms_week1_lcc, path='results/D_sms_week1_lcc.gexf')"
   ]
  },
  {
   "cell_type": "code",
   "execution_count": 57,
   "id": "b46464a8",
   "metadata": {},
   "outputs": [],
   "source": [
    "#nx.read_gexf(path='results/D_sms_week1_lcc.gexf')"
   ]
  },
  {
   "cell_type": "code",
   "execution_count": 58,
   "id": "5520c19e",
   "metadata": {},
   "outputs": [],
   "source": [
    "#nx.write_gml(G=D_sms_week1_lcc, path='results/D_sms_week1_lcc.gml', stringizer=str)"
   ]
  },
  {
   "cell_type": "code",
   "execution_count": 59,
   "id": "7cb84567",
   "metadata": {},
   "outputs": [],
   "source": [
    "#nx.read_gml(path='results/D_sms_week1_lcc.gml')"
   ]
  },
  {
   "cell_type": "code",
   "execution_count": 60,
   "id": "724dcbe7",
   "metadata": {},
   "outputs": [],
   "source": [
    "import pickle"
   ]
  },
  {
   "cell_type": "code",
   "execution_count": 61,
   "id": "e03f466a",
   "metadata": {},
   "outputs": [],
   "source": [
    "with open('results/D_sms_week1_lcc.pickle', 'wb') as f:\n",
    "    pickle.dump(D_sms_week1_lcc.copy(), f, pickle.HIGHEST_PROTOCOL)"
   ]
  },
  {
   "cell_type": "code",
   "execution_count": 62,
   "id": "b6c5b75e",
   "metadata": {},
   "outputs": [
    {
     "data": {
      "text/plain": [
       "<networkx.classes.digraph.DiGraph at 0x1ea0eed5820>"
      ]
     },
     "execution_count": 62,
     "metadata": {},
     "output_type": "execute_result"
    }
   ],
   "source": [
    "with open('results/D_sms_week1_lcc.pickle', 'rb') as f:\n",
    "    _ = pickle.load(f)\n",
    "_"
   ]
  },
  {
   "cell_type": "code",
   "execution_count": 63,
   "id": "45ba101f",
   "metadata": {},
   "outputs": [],
   "source": [
    "with open('results/G_sms_week1_lcc.pickle', 'wb') as f:\n",
    "    pickle.dump(G_sms_week1_lcc.copy(), f, pickle.HIGHEST_PROTOCOL)\n",
    "with open('results/G_bt_snapshot1.pickle', 'wb') as f:\n",
    "    pickle.dump(G_bt_snapshot1.copy(), f, pickle.HIGHEST_PROTOCOL)"
   ]
  },
  {
   "cell_type": "code",
   "execution_count": null,
   "id": "5133c9cf",
   "metadata": {},
   "outputs": [],
   "source": []
  }
 ],
 "metadata": {
  "kernelspec": {
   "display_name": "Python 3",
   "language": "python",
   "name": "python3"
  },
  "language_info": {
   "codemirror_mode": {
    "name": "ipython",
    "version": 3
   },
   "file_extension": ".py",
   "mimetype": "text/x-python",
   "name": "python",
   "nbconvert_exporter": "python",
   "pygments_lexer": "ipython3",
   "version": "3.8.8"
  }
 },
 "nbformat": 4,
 "nbformat_minor": 5
}
