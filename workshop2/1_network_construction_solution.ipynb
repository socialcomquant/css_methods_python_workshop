{
 "cells": [
  {
   "cell_type": "markdown",
   "id": "da61be2a",
   "metadata": {},
   "source": [
    "### Workshop series, Koç University, Turkey, 11-12 April 2023"
   ]
  },
  {
   "cell_type": "markdown",
   "id": "b70bc56f",
   "metadata": {},
   "source": [
    "##  [Introduction to Computational Social Science methods with Python](https://socialcomquant.ku.edu.tr/intro-to-css-methods-with-python/)"
   ]
  },
  {
   "cell_type": "markdown",
   "id": "71218328",
   "metadata": {},
   "source": [
    "# Workshop 1: Introduction to network analysis with Python - Part I\n",
    "\n",
    "**Description**: Computational Social Science is often concerned with the traces of human behavior like those left by uses of social media, messaging services, or cell phones. Such digital behavioral data is genuinely relational and can, therefore, be studied using the formal techniques of network analysis. The basic units of networks called nodes can be actors (e.g., users), communicative symbols (e.g., hashtags), or even transactions (e.g., tweets). By focusing on the edges (relations) among nodes, network analysis is capable of creating insights that are not possible by merely doing statistics on the nodes and their attributes. In the workshop, we will give an introduction to how network data should be organized, how networks can be created in Python, and how they can be analyzed on three levels. On the micro level, we will introduce centrality analysis which results in numerical descriptions of nodes. On the meso level, we will introduce community detection, which results in sets of nodes that form groups or clusters. On the macro level, we will introduce measures that describe inequality in, and the cohesion of, the network in its entirety. We will be using network data from the Copenhagen Networks Study, which describes four different types of social relations among students over time. The workshop will alternate between live-coding demonstrations and periods in which participants apply that knowledge in context, both using Jupyter Notebooks. The software we will be using is NetworkX, a standard Python library that is simple to understand, provides a breadth of options and has a large user community.\n",
    "\n",
    "**Target group**: Undergraduate, master students, doctoral candidates, and experienced researchers who want to get introduced to the practice of Computational Social Science.\n",
    "\n",
    "**Requirements**: Participants are expected to know the basics of Python and have at least some experience using it. For the workshops, participants should bring a running system on which they can execute Jupyter Notebooks. We will be using Python 3.9 and several standard libraries that are part of the Anaconda 2022.10 distribution or can be installed on top of that. A list of libraries and versions of these libraries that participants should import will be circulated before the workshops. We recommend that participants install Anaconda 2022.10. Feel free to also work in a cloud-like Google Colab. Consult [this link](https://github.com/gesiscss/css_methods_python/blob/main/a_introduction/1_computing_environment.ipynb) for more detailed instructions on how to set up your computing environment.\n",
    "\n",
    "**Lecturers**: Dr. Haiko Lietz is a postdoctoral researcher in the Computational Social Science department at GESIS - Leibniz Institute for the Social Sciences. His research interests are in computational sociology, network science, and complexity science. Dr. N. Gizem Bacaksizlar Turbic is a postdoctoral researcher in the Computational Social Science departments at RWTH Aachen University and GESIS - Leibniz Institute for the Social Sciences. Her research areas include complex adaptive systems and social and political networks."
   ]
  },
  {
   "cell_type": "markdown",
   "id": "ed1d0709",
   "metadata": {},
   "source": [
    "## Documentation of Networkx 2.8.4\n",
    "\n",
    "https://networkx.org/documentation/networkx-2.8.4/reference/index.html"
   ]
  },
  {
   "cell_type": "markdown",
   "id": "7a506d5e",
   "metadata": {},
   "source": [
    "## Network construction"
   ]
  },
  {
   "cell_type": "markdown",
   "id": "161caa5f",
   "metadata": {},
   "source": [
    "### Constructing from scratch"
   ]
  },
  {
   "cell_type": "code",
   "execution_count": null,
   "id": "b0b8ad9d",
   "metadata": {},
   "outputs": [],
   "source": [
    "import networkx as nx\n",
    "nx.__version__"
   ]
  },
  {
   "cell_type": "code",
   "execution_count": null,
   "id": "e73da5e1",
   "metadata": {},
   "outputs": [],
   "source": [
    "G = nx.Graph()"
   ]
  },
  {
   "cell_type": "code",
   "execution_count": null,
   "id": "979a6a8f",
   "metadata": {},
   "outputs": [],
   "source": [
    "D = nx.DiGraph()"
   ]
  },
  {
   "cell_type": "code",
   "execution_count": null,
   "id": "d61a39ae",
   "metadata": {},
   "outputs": [],
   "source": [
    "G.add_node(5)"
   ]
  },
  {
   "cell_type": "code",
   "execution_count": null,
   "id": "72f6c496",
   "metadata": {},
   "outputs": [],
   "source": [
    "G.add_nodes_from(['pretty', 13])"
   ]
  },
  {
   "cell_type": "code",
   "execution_count": null,
   "id": "d9a188f9",
   "metadata": {},
   "outputs": [],
   "source": [
    "G.nodes()"
   ]
  },
  {
   "cell_type": "code",
   "execution_count": null,
   "id": "b6dc815c",
   "metadata": {},
   "outputs": [],
   "source": [
    "G.add_edge('pretty', 13)"
   ]
  },
  {
   "cell_type": "code",
   "execution_count": null,
   "id": "30514935",
   "metadata": {},
   "outputs": [],
   "source": [
    "G.add_edges_from([('pretty', 13), ('ruby', 0)])"
   ]
  },
  {
   "cell_type": "code",
   "execution_count": null,
   "id": "6d84b46a",
   "metadata": {},
   "outputs": [],
   "source": [
    "G.edges()"
   ]
  },
  {
   "cell_type": "code",
   "execution_count": null,
   "id": "327ac1a9",
   "metadata": {},
   "outputs": [],
   "source": [
    "G.nodes()"
   ]
  },
  {
   "cell_type": "markdown",
   "id": "87e798cc",
   "metadata": {},
   "source": [
    "### Constructing from Pandas dataframes"
   ]
  },
  {
   "cell_type": "code",
   "execution_count": null,
   "id": "ae59c4c4",
   "metadata": {},
   "outputs": [],
   "source": [
    "import pandas as pd\n",
    "pd.__version__"
   ]
  },
  {
   "cell_type": "markdown",
   "id": "fbeefca0",
   "metadata": {},
   "source": [
    "#### Copenhagen Networks Study interaction data"
   ]
  },
  {
   "cell_type": "code",
   "execution_count": null,
   "id": "83945c4a",
   "metadata": {},
   "outputs": [],
   "source": [
    "edgelist_sms = pd.read_csv('data/sms.csv')\n",
    "edgelist_sms.sort_values('sender').head()"
   ]
  },
  {
   "cell_type": "code",
   "execution_count": null,
   "id": "5fec4990",
   "metadata": {},
   "outputs": [],
   "source": [
    "with open('data/sms.README', 'r') as f:\n",
    "    print(f.read())"
   ]
  },
  {
   "cell_type": "code",
   "execution_count": null,
   "id": "d4fd9ec6",
   "metadata": {},
   "outputs": [],
   "source": [
    "import matplotlib.pyplot as plt"
   ]
  },
  {
   "cell_type": "code",
   "execution_count": null,
   "id": "f20f61ef",
   "metadata": {},
   "outputs": [],
   "source": [
    "plt.figure(figsize=[3, 2])\n",
    "edgelist_sms['timestamp'].hist(bins=28)\n",
    "for i in range(5):\n",
    "    plt.axvline(x=7*24*60*60*i, color='black')\n",
    "plt.xlabel('timestamp')\n",
    "plt.ylabel('Count')\n",
    "plt.show()"
   ]
  },
  {
   "cell_type": "markdown",
   "id": "0ae22ba6",
   "metadata": {},
   "source": [
    "#### Text messaging network"
   ]
  },
  {
   "cell_type": "code",
   "execution_count": null,
   "id": "4ec31311",
   "metadata": {},
   "outputs": [],
   "source": [
    "D_sms = nx.from_pandas_edgelist(\n",
    "    df = edgelist_sms, \n",
    "    source = 'sender', \n",
    "    target = 'recipient', \n",
    "    create_using = nx.DiGraph\n",
    ")\n",
    "D_sms"
   ]
  },
  {
   "cell_type": "code",
   "execution_count": null,
   "id": "c01c1a85",
   "metadata": {},
   "outputs": [],
   "source": [
    "D_sms.edges()"
   ]
  },
  {
   "cell_type": "code",
   "execution_count": null,
   "id": "0f1078a6",
   "metadata": {},
   "outputs": [],
   "source": [
    "nx.draw(G=D_sms, node_size=10)"
   ]
  },
  {
   "cell_type": "markdown",
   "id": "95794a09",
   "metadata": {},
   "source": [
    "#### Aggregated text messaging network"
   ]
  },
  {
   "cell_type": "code",
   "execution_count": null,
   "id": "565d3cfc",
   "metadata": {},
   "outputs": [],
   "source": [
    "def aggregate_edges(df, time, source, target, weight, time_zero, window_size, inclusive, fun):\n",
    "    '''\n",
    "    Aggregates edges from a time-stamped edge list according to an aggregation function.\n",
    "    \n",
    "    Parameters:\n",
    "        df : Pandas DataFrame\n",
    "            Time-stamped edgelist.\n",
    "        time : String\n",
    "            Name of the column in df which contains the timestamp.\n",
    "        source : String\n",
    "            Name of the column in df which contains the source node.\n",
    "        target : String\n",
    "            Name of the column in df which contains the target node.>\n",
    "        weight : String or None\n",
    "            Name of the column in df which contains the edge weights. If None, a column with unit edge weights will be created.\n",
    "        time_zero : String or numerical\n",
    "            Time where aggregation begins.\n",
    "        window_size : String or numerical\n",
    "            Size of the time window used for aggregation.\n",
    "        inclusive : {'both', 'neither', 'left', 'right'}\n",
    "            Include boundaries. Whether to set each bound as closed or open.\n",
    "        fun : {'max', 'sum', 'mean'}\n",
    "            Aggregation method. Either the maximum edge weight is used, weights are summer, or weights are averaged.\n",
    "    \n",
    "    Returns:\n",
    "        Aggregated edge list consisting of a node pair and a weight column.\n",
    "    '''\n",
    "    if weight == None:\n",
    "        weight = 'weight'\n",
    "        df[weight] = 1\n",
    "    if fun == 'max':\n",
    "        df_agg = df[df[time].between(left=time_zero, right=time_zero+window_size, inclusive=inclusive)].groupby([source, target]).max().reset_index()[[source, target, weight]]\n",
    "    if fun == 'sum':\n",
    "        df_agg = df[df[time].between(left=time_zero, right=time_zero+window_size, inclusive=inclusive)].groupby([source, target]).sum().reset_index()[[source, target, weight]]\n",
    "    if fun == 'mean':\n",
    "        df_agg = df[df[time].between(left=time_zero, right=time_zero+window_size, inclusive=inclusive)].groupby([source, target]).mean().reset_index()[[source, target, weight]]\n",
    "    return df_agg"
   ]
  },
  {
   "cell_type": "code",
   "execution_count": null,
   "id": "11adb03f",
   "metadata": {},
   "outputs": [],
   "source": [
    "edgelist_sms_week1 = aggregate_edges(\n",
    "    df = edgelist_sms, \n",
    "    time = 'timestamp', \n",
    "    source = 'sender', \n",
    "    target = 'recipient', \n",
    "    weight = None, \n",
    "    time_zero = 0, \n",
    "    window_size = 604800, \n",
    "    inclusive = 'left', \n",
    "    fun = 'sum'\n",
    ")\n",
    "edgelist_sms_week1.head()"
   ]
  },
  {
   "cell_type": "code",
   "execution_count": null,
   "id": "e169992b",
   "metadata": {},
   "outputs": [],
   "source": [
    "D_sms_week1 = nx.from_pandas_edgelist(\n",
    "    df = edgelist_sms_week1, \n",
    "    source = 'sender', \n",
    "    target = 'recipient', \n",
    "    edge_attr = 'weight', \n",
    "    create_using = nx.DiGraph\n",
    ")\n",
    "D_sms_week1"
   ]
  },
  {
   "cell_type": "code",
   "execution_count": null,
   "id": "50ca3c1d",
   "metadata": {},
   "outputs": [],
   "source": [
    "D_sms_week1.edges(data=True)"
   ]
  },
  {
   "cell_type": "code",
   "execution_count": null,
   "id": "3315f576",
   "metadata": {},
   "outputs": [],
   "source": [
    "nx.draw(G=D_sms_week1, node_size=10)"
   ]
  },
  {
   "cell_type": "markdown",
   "id": "76862bc1",
   "metadata": {},
   "source": [
    "#### Components"
   ]
  },
  {
   "cell_type": "code",
   "execution_count": null,
   "id": "1b46b55f",
   "metadata": {},
   "outputs": [],
   "source": [
    "nx.is_weakly_connected(G=D_sms_week1)"
   ]
  },
  {
   "cell_type": "code",
   "execution_count": null,
   "id": "be8715f4",
   "metadata": {},
   "outputs": [],
   "source": [
    "nx.number_weakly_connected_components(G=D_sms_week1)"
   ]
  },
  {
   "cell_type": "code",
   "execution_count": null,
   "id": "b9253b54",
   "metadata": {},
   "outputs": [],
   "source": [
    "cc_sms_week1 = nx.weakly_connected_components(D_sms_week1)\n",
    "cc_sms_week1"
   ]
  },
  {
   "cell_type": "code",
   "execution_count": null,
   "id": "bf86a2dc",
   "metadata": {},
   "outputs": [],
   "source": [
    "next(cc_sms_week1)"
   ]
  },
  {
   "cell_type": "code",
   "execution_count": null,
   "id": "68ad64e8",
   "metadata": {},
   "outputs": [],
   "source": [
    "cc_sms_week1 = sorted(nx.weakly_connected_components(D_sms_week1), key=len, reverse=True)\n",
    "cc_sms_week1"
   ]
  },
  {
   "cell_type": "code",
   "execution_count": null,
   "id": "d661946c",
   "metadata": {},
   "outputs": [],
   "source": [
    "D_sms_week1_lcc = D_sms_week1.subgraph(nodes=cc_sms_week1[0])\n",
    "D_sms_week1_lcc"
   ]
  },
  {
   "cell_type": "markdown",
   "id": "4a16dfff",
   "metadata": {},
   "source": [
    "#### Layouting"
   ]
  },
  {
   "cell_type": "code",
   "execution_count": null,
   "id": "8db2ffa1",
   "metadata": {},
   "outputs": [],
   "source": [
    "pos_sms_week1_lcc = nx.spring_layout(G=D_sms_week1_lcc, weight=None)"
   ]
  },
  {
   "cell_type": "code",
   "execution_count": null,
   "id": "72bf3ba5",
   "metadata": {},
   "outputs": [],
   "source": [
    "pos_sms_week1_lcc = nx.kamada_kawai_layout(G=D_sms_week1_lcc, weight=None)"
   ]
  },
  {
   "cell_type": "code",
   "execution_count": null,
   "id": "f6f2cc38",
   "metadata": {},
   "outputs": [],
   "source": [
    "import numpy as np"
   ]
  },
  {
   "cell_type": "code",
   "execution_count": null,
   "id": "f94253ef",
   "metadata": {},
   "outputs": [],
   "source": [
    "width_sms_week1_lcc = [np.log(w) + 1 for w in nx.get_edge_attributes(G=D_sms_week1_lcc, name='weight').values()]\n",
    "width_sms_week1_lcc"
   ]
  },
  {
   "cell_type": "code",
   "execution_count": null,
   "id": "db83e6e6",
   "metadata": {},
   "outputs": [],
   "source": [
    "import os\n",
    "directory = 'results'\n",
    "if not os.path.exists(directory):\n",
    "    os.makedirs(directory)"
   ]
  },
  {
   "cell_type": "code",
   "execution_count": null,
   "id": "7f54395e",
   "metadata": {},
   "outputs": [],
   "source": [
    "nx.draw(\n",
    "    G = D_sms_week1_lcc, \n",
    "    pos = pos_sms_week1_lcc, \n",
    "    node_size = 40, \n",
    "    width = width_sms_week1_lcc\n",
    ")\n",
    "#plt.savefig('results/D_sms_week1_lcc.pdf')\n",
    "#plt.savefig('results/D_sms_week1_lcc.png')"
   ]
  },
  {
   "cell_type": "markdown",
   "id": "5dea20ce",
   "metadata": {},
   "source": [
    "## Exercise 1: Construct a face-to-face interaction network\n",
    "\n",
    "The physical proximity relations of the CNS dataset resemble a link stream at high temporal resolution. Physical proximity of two students is measured using the Bluetooth devices of the cell phones handed out to the students. These devices scan their environment every five minutes and record the presence of other phones. All instances of students A and B discovering each other were identified, and the larger signal strength (`rssi`) is reported ([Sapiezynski et al. 2019](https://doi.org/10.1038/s41597-019-0325-x))."
   ]
  },
  {
   "cell_type": "code",
   "execution_count": null,
   "id": "efb617fa",
   "metadata": {},
   "outputs": [],
   "source": [
    "edgelist_bt = pd.read_csv('data/bt_symmetric.csv.gz')\n",
    "edgelist_bt.head()"
   ]
  },
  {
   "cell_type": "code",
   "execution_count": null,
   "id": "86868aeb",
   "metadata": {},
   "outputs": [],
   "source": [
    "with open('data/bt_symmetric.README', 'r') as f:\n",
    "    print(f.read())"
   ]
  },
  {
   "cell_type": "markdown",
   "id": "6926e1a7",
   "metadata": {},
   "source": [
    "Remove relations involving devices not participating in the experiment:"
   ]
  },
  {
   "cell_type": "code",
   "execution_count": null,
   "id": "d58aa50f",
   "metadata": {},
   "outputs": [],
   "source": [
    "edgelist_bt = edgelist_bt[edgelist_bt['user_b'] >= 0].reset_index(drop=True)"
   ]
  },
  {
   "cell_type": "markdown",
   "id": "82cd26f0",
   "metadata": {},
   "source": [
    "RSSI is a value between -100 and 0. As a rule of thumb, an RSSI signal strength of -75 means that two devices are 1 meter apart (Mones *et al.* 2017). Values closer to 0 mean devices are also closer. Filter the edgelist to obtain very-close-range proximity:"
   ]
  },
  {
   "cell_type": "code",
   "execution_count": null,
   "id": "6f9e0417",
   "metadata": {},
   "outputs": [],
   "source": [
    "edgelist_bt = edgelist_bt[edgelist_bt['rssi'] >= -75]"
   ]
  },
  {
   "cell_type": "markdown",
   "id": "497fb0fe",
   "metadata": {},
   "source": [
    "Now aggregate the edges in `edgelist_bt`, starting at `time_zero = 118800` (which is 9am on day 2). Construct a graph from this edgelist and draw it. Experiment with different values for `window_size`. Can you reproduce the finding from the following figure that groups of students are visible for a certain aggregation window?\n",
    "\n",
    "|<img src='https://media.springernature.com/full/springer-static/image/art%3A10.1038%2Fs41597-019-0325-x/MediaObjects/41597_2019_325_Fig5_HTML.png' style='float: none; width: 480px'>|\n",
    "|:--|\n",
    "|<em style='float: center'>**Figure 1**: Temporal aggregation of the Bluetooth network ([Sapiezynski et al. 2019](https://doi.org/10.1038/s41597-019-0325-x)).</em>|"
   ]
  },
  {
   "cell_type": "code",
   "execution_count": null,
   "id": "afeb4d37",
   "metadata": {},
   "outputs": [],
   "source": [
    "edgelist_bt_snapshot1 = aggregate_edges(\n",
    "    df = edgelist_bt, \n",
    "    time = '# timestamp', \n",
    "    source = 'user_a', \n",
    "    target = 'user_b', \n",
    "    weight = None, \n",
    "    time_zero = 118800, \n",
    "    window_size = 6900, \n",
    "    inclusive = 'left', \n",
    "    fun = 'sum'\n",
    ")\n",
    "edgelist_bt_snapshot1.head()"
   ]
  },
  {
   "cell_type": "code",
   "execution_count": null,
   "id": "50045df1",
   "metadata": {},
   "outputs": [],
   "source": [
    "G_bt_snapshot1 = nx.from_pandas_edgelist(\n",
    "    df = edgelist_bt_snapshot1, \n",
    "    source = 'user_a', \n",
    "    target = 'user_b', \n",
    "    edge_attr = 'weight', \n",
    "    create_using = nx.Graph\n",
    ")\n",
    "G_bt_snapshot1"
   ]
  },
  {
   "cell_type": "code",
   "execution_count": null,
   "id": "15579a33",
   "metadata": {},
   "outputs": [],
   "source": [
    "nx.draw(G=G_bt_snapshot1, node_size=10)\n",
    "plt.savefig('results/G_bt_snapshot1.pdf')\n",
    "plt.savefig('results/G_bt_snapshot1.png')"
   ]
  },
  {
   "cell_type": "markdown",
   "id": "83ecb118",
   "metadata": {},
   "source": [
    "## Transforming, exporting, and importing networks\n",
    "\n",
    "#### Removing direction of edges"
   ]
  },
  {
   "cell_type": "code",
   "execution_count": null,
   "id": "04a22841",
   "metadata": {},
   "outputs": [],
   "source": [
    "D_sms.to_undirected()"
   ]
  },
  {
   "cell_type": "code",
   "execution_count": null,
   "id": "6a050fc6",
   "metadata": {},
   "outputs": [],
   "source": [
    "def weighted_digraph_to_graph(G, layered, fun, reciprocal, weight='weight'):\n",
    "    '''\n",
    "    Transforms a weighted directed graph into a weighted undirected network.\n",
    "    \n",
    "    Parameters:\n",
    "        G : DiGraph or MultiDiGraph\n",
    "            Directed network to be transformed.\n",
    "        layered : Boolean\n",
    "            Whether or not G is a MultiDiGraph.\n",
    "        fun : String\n",
    "            Function how edge weights from two edge directions are treated mathematically. Valid functions are 'mean', 'sum', and 'max'.\n",
    "        reciprocal : Boolean\n",
    "            If True only keep edges that appear in both directions in the original DiGraph.\n",
    "        weight : String, default 'weight'\n",
    "            Name of edge attribute.\n",
    "    \n",
    "    Returns:\n",
    "        A weighted Graph.\n",
    "    '''\n",
    "    G = G.copy()\n",
    "    \n",
    "    for u, v, data in G.edges(data=True):\n",
    "        data['diweight'] = data.pop(weight)\n",
    "    \n",
    "    if layered:\n",
    "        for node in G:\n",
    "            for neighbor in nx.neighbors(G, node):\n",
    "                for key in G[node][neighbor].keys():\n",
    "                    if node in nx.neighbors(G, neighbor):\n",
    "                        if key in G[neighbor][node].keys():\n",
    "                            if fun == 'mean':\n",
    "                                G.edges[node, neighbor, key][weight] = (G.edges[node, neighbor, key]['diweight'] + G.edges[neighbor, node, key]['diweight']) / 2\n",
    "                            elif fun == 'sum':\n",
    "                                G.edges[node, neighbor, key][weight] = (G.edges[node, neighbor, key]['diweight'] + G.edges[neighbor, node, key]['diweight'])\n",
    "                            elif fun == 'max':\n",
    "                                G.edges[node, neighbor, key][weight] = max(G.edges[node, neighbor, key]['diweight'], G.edges[neighbor, node, key]['diweight'])\n",
    "                            else:\n",
    "                                raise NotImplementedError(\"Valid functions are 'mean', 'sum', and 'max'.\")\n",
    "                    else:\n",
    "                        G.edges[node, neighbor, key][weight] = G.edges[node, neighbor, key]['diweight']\n",
    "    else:\n",
    "        for node in G:\n",
    "            for neighbor in nx.neighbors(G, node):\n",
    "                if node in nx.neighbors(G, neighbor):\n",
    "                    if fun == 'mean':\n",
    "                        G.edges[node, neighbor][weight] = (G.edges[node, neighbor]['diweight'] + G.edges[neighbor, node]['diweight']) / 2\n",
    "                    elif fun == 'sum':\n",
    "                        G.edges[node, neighbor][weight] = (G.edges[node, neighbor]['diweight'] + G.edges[neighbor, node]['diweight'])\n",
    "                    elif fun == 'max':\n",
    "                        G.edges[node, neighbor][weight] = max(G.edges[node, neighbor]['diweight'], G.edges[neighbor, node]['diweight'])\n",
    "                    else:\n",
    "                        raise NotImplementedError(\"Valid functions are 'mean', 'sum', and 'max'.\")\n",
    "                else:\n",
    "                    G.edges[node, neighbor][weight] = G.edges[node, neighbor]['diweight']\n",
    "    \n",
    "    for u, v, data in G.edges(data=True):\n",
    "        del data['diweight']\n",
    "    \n",
    "    G = G.to_undirected(reciprocal=reciprocal)\n",
    "    \n",
    "    return G"
   ]
  },
  {
   "cell_type": "code",
   "execution_count": null,
   "id": "eca7f107",
   "metadata": {},
   "outputs": [],
   "source": [
    "G_sms_week1_lcc = weighted_digraph_to_graph(G=D_sms_week1_lcc, layered=False, fun='mean', reciprocal=False, weight='weight')\n",
    "G_sms_week1_lcc"
   ]
  },
  {
   "cell_type": "markdown",
   "id": "ef1edfdc",
   "metadata": {},
   "source": [
    "#### Exporting"
   ]
  },
  {
   "cell_type": "code",
   "execution_count": null,
   "id": "85000699",
   "metadata": {},
   "outputs": [],
   "source": [
    "#nx.write_gexf(G=D_sms_week1_lcc, path='results/D_sms_week1_lcc.gexf')\n",
    "#nx.write_gexf(G=G_sms_week1_lcc, path='results/G_sms_week1_lcc.gexf')"
   ]
  },
  {
   "cell_type": "code",
   "execution_count": null,
   "id": "5520c19e",
   "metadata": {},
   "outputs": [],
   "source": [
    "nx.write_gml(G=D_sms_week1_lcc, path='results/D_sms_week1_lcc.gml')\n",
    "nx.write_gml(G=G_sms_week1_lcc, path='results/G_sms_week1_lcc.gml')"
   ]
  },
  {
   "cell_type": "code",
   "execution_count": null,
   "id": "b46464a8",
   "metadata": {},
   "outputs": [],
   "source": [
    "#nx.read_gexf(path='results/D_sms_week1_lcc.gexf')"
   ]
  },
  {
   "cell_type": "code",
   "execution_count": null,
   "id": "7cb84567",
   "metadata": {},
   "outputs": [],
   "source": [
    "nx.read_gml(path='results/D_sms_week1_lcc.gml')"
   ]
  },
  {
   "cell_type": "code",
   "execution_count": null,
   "id": "d7c09d41",
   "metadata": {},
   "outputs": [],
   "source": []
  }
 ],
 "metadata": {
  "kernelspec": {
   "display_name": "Python 3 (ipykernel)",
   "language": "python",
   "name": "python3"
  },
  "language_info": {
   "codemirror_mode": {
    "name": "ipython",
    "version": 3
   },
   "file_extension": ".py",
   "mimetype": "text/x-python",
   "name": "python",
   "nbconvert_exporter": "python",
   "pygments_lexer": "ipython3",
   "version": "3.9.13"
  }
 },
 "nbformat": 4,
 "nbformat_minor": 5
}
