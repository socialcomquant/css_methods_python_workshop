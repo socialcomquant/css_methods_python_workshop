{
 "cells": [
  {
   "cell_type": "markdown",
   "id": "da61be2a",
   "metadata": {},
   "source": [
    "### Workshop series, Koç University, Turkey, 11-12 April 2023"
   ]
  },
  {
   "cell_type": "markdown",
   "id": "b70bc56f",
   "metadata": {},
   "source": [
    "##  [Introduction to Computational Social Science methods with Python](https://socialcomquant.ku.edu.tr/intro-to-css-methods-with-python/)"
   ]
  },
  {
   "attachments": {},
   "cell_type": "markdown",
   "id": "71218328",
   "metadata": {},
   "source": [
    "# Workshop 2: Introduction to network analysis with Python - Part II\n",
    "\n",
    "**Description**: Computational Social Science is often concerned with the traces of human behavior like those left by uses of social media, messaging services, or cell phones. Such digital behavioral data is genuinely relational and can, therefore, be studied using the formal techniques of network analysis. The basic units of networks called nodes can be actors (e.g., users), communicative symbols (e.g., hashtags), or even transactions (e.g., tweets). By focusing on the edges (relations) among nodes, network analysis is capable of creating insights that are not possible by merely doing statistics on the nodes and their attributes. In the workshop, we will give an introduction to how network data should be organized, how networks can be created in Python, and how they can be analyzed on three levels. On the micro level, we will introduce centrality analysis which results in numerical descriptions of nodes. On the meso level, we will introduce community detection, which results in sets of nodes that form groups or clusters. On the macro level, we will introduce measures that describe homophily, assortativity of, the network in its entirety. We will be using network data from the Copenhagen Networks Study, which describes four different types of social relations among students over time. The workshop will alternate between live-coding demonstrations and periods in which participants apply that knowledge in context, both using Jupyter Notebooks. The software we will be using is NetworkX, a standard Python library that is simple to understand, provides a breadth of options and has a large user community.\n",
    "\n",
    "**Target group**: Undergraduate, master students, doctoral candidates, and experienced researchers who want to get introduced to the practice of Computational Social Science.\n",
    "\n",
    "**Requirements**: Participants are expected to know the basics of Python and have at least some experience using it. For the workshops, participants should bring a running system on which they can execute Jupyter Notebooks. We will be using Python 3.9 and several standard libraries that are part of the Anaconda 2022.10 distribution or can be installed on top of that. A list of libraries and versions of these libraries that participants should import will be circulated before the workshops. We recommend that participants install Anaconda 2022.10. Feel free to also work in a cloud-like Google Colab. Consult [this link](https://github.com/gesiscss/css_methods_python/blob/main/a_introduction/1_computing_environment.ipynb) for more detailed instructions on how to set up your computing environment.\n",
    "\n",
    "**Lecturers**: Dr. Haiko Lietz is a postdoctoral researcher in the Computational Social Science department at GESIS - Leibniz Institute for the Social Sciences. His research interests are in computational sociology, network science, and complexity science. Dr. N. Gizem Bacaksizlar Turbic is a postdoctoral researcher in the Computational Social Science departments at RWTH Aachen University and GESIS - Leibniz Institute for the Social Sciences. Her research areas include complex adaptive systems and social and political networks."
   ]
  },
  {
   "cell_type": "markdown",
   "id": "ed1d0709",
   "metadata": {},
   "source": [
    "## Documentation of Networkx 2.8.4\n",
    "\n",
    "https://networkx.org/documentation/networkx-2.8.4/reference/index.html"
   ]
  },
  {
   "attachments": {},
   "cell_type": "markdown",
   "id": "7a506d5e",
   "metadata": {},
   "source": [
    "## Network analysis"
   ]
  },
  {
   "attachments": {},
   "cell_type": "markdown",
   "id": "161caa5f",
   "metadata": {},
   "source": [
    "### Centrality measures"
   ]
  },
  {
   "cell_type": "code",
   "execution_count": 89,
   "id": "b0b8ad9d",
   "metadata": {},
   "outputs": [],
   "source": [
    "import networkx as nx\n",
    "nx.__version__\n",
    "import pandas as pd\n",
    "from operator import itemgetter\n"
   ]
  },
  {
   "cell_type": "code",
   "execution_count": 90,
   "id": "04a9994e",
   "metadata": {},
   "outputs": [],
   "source": [
    "# we will focus on the directed network of sms data first\n",
    "D_sms = nx.read_gml('./data/D_sms_week1_lcc.gml')\n",
    "D_sms = nx.convert_node_labels_to_integers(D_sms, first_label=0, ordering='default', label_attribute=None)\n"
   ]
  },
  {
   "attachments": {},
   "cell_type": "markdown",
   "id": "4a67efb3",
   "metadata": {},
   "source": [
    "#### Degree centrality\n",
    "The __degree__ is the number of ties a node has. The __degree centrality__ for a node _v_ is the fraction of nodes it is connected to. It measures potential communication activity. "
   ]
  },
  {
   "cell_type": "code",
   "execution_count": 91,
   "id": "d61a39ae",
   "metadata": {},
   "outputs": [],
   "source": [
    "degree_cent = nx.degree_centrality(D_sms)"
   ]
  },
  {
   "cell_type": "code",
   "execution_count": 92,
   "id": "91827268",
   "metadata": {},
   "outputs": [
    {
     "data": {
      "text/plain": [
       "[(0, 0.0196078431372549),\n",
       " (1, 0.09803921568627451),\n",
       " (2, 0.058823529411764705),\n",
       " (3, 0.0196078431372549),\n",
       " (4, 0.0392156862745098)]"
      ]
     },
     "execution_count": 92,
     "metadata": {},
     "output_type": "execute_result"
    }
   ],
   "source": [
    "# show the first five nodes of the degree centrality dictionary\n",
    "list(degree_cent.items())[:5]"
   ]
  },
  {
   "cell_type": "code",
   "execution_count": 93,
   "id": "72f6c496",
   "metadata": {},
   "outputs": [
    {
     "data": {
      "text/plain": [
       "{48: 0.13725490196078433,\n",
       " 1: 0.09803921568627451,\n",
       " 24: 0.09803921568627451,\n",
       " 10: 0.08823529411764705,\n",
       " 16: 0.08823529411764705}"
      ]
     },
     "execution_count": 93,
     "metadata": {},
     "output_type": "execute_result"
    }
   ],
   "source": [
    "# get the top five nodes with higher degree centrality\n",
    "dict(sorted(degree_cent.items(), key = itemgetter(1), reverse = True)[:5])"
   ]
  },
  {
   "attachments": {},
   "cell_type": "markdown",
   "id": "b202a967",
   "metadata": {},
   "source": [
    "#### In-degree centrality\n",
    "The __in-degree centrality__ for a node _v_ is the fraction of nodes its incoming edges are connected to."
   ]
  },
  {
   "cell_type": "code",
   "execution_count": 94,
   "id": "46f5f7b3",
   "metadata": {},
   "outputs": [],
   "source": [
    "in_degree_cent = nx.in_degree_centrality(D_sms)"
   ]
  },
  {
   "cell_type": "code",
   "execution_count": 95,
   "id": "ba03b442",
   "metadata": {},
   "outputs": [
    {
     "data": {
      "text/plain": [
       "[(0, 0.00980392156862745),\n",
       " (1, 0.049019607843137254),\n",
       " (2, 0.0196078431372549),\n",
       " (3, 0.00980392156862745),\n",
       " (4, 0.0196078431372549)]"
      ]
     },
     "execution_count": 95,
     "metadata": {},
     "output_type": "execute_result"
    }
   ],
   "source": [
    "# show the first five nodes of the in_degree centrality dictionary\n",
    "list(in_degree_cent.items())[:5]"
   ]
  },
  {
   "cell_type": "code",
   "execution_count": 96,
   "id": "3c89f200",
   "metadata": {},
   "outputs": [
    {
     "data": {
      "text/plain": [
       "{48: 0.06862745098039216,\n",
       " 1: 0.049019607843137254,\n",
       " 24: 0.049019607843137254,\n",
       " 89: 0.049019607843137254,\n",
       " 16: 0.0392156862745098}"
      ]
     },
     "execution_count": 96,
     "metadata": {},
     "output_type": "execute_result"
    }
   ],
   "source": [
    "# get the top five nodes with higher in_degree centrality\n",
    "dict(sorted(in_degree_cent.items(), key = itemgetter(1), reverse = True)[:5])"
   ]
  },
  {
   "attachments": {},
   "cell_type": "markdown",
   "id": "87ede516",
   "metadata": {},
   "source": [
    "#### Out-degree centrality\n",
    "The __out-degree centrality__ for a node _v_ is the fraction of nodes its outgoing edges are connected to."
   ]
  },
  {
   "cell_type": "code",
   "execution_count": 97,
   "id": "de401edf",
   "metadata": {},
   "outputs": [],
   "source": [
    "out_degree_cent = nx.out_degree_centrality(D_sms)"
   ]
  },
  {
   "cell_type": "code",
   "execution_count": 98,
   "id": "d9a188f9",
   "metadata": {},
   "outputs": [
    {
     "data": {
      "text/plain": [
       "[(0, 0.00980392156862745),\n",
       " (1, 0.049019607843137254),\n",
       " (2, 0.0392156862745098),\n",
       " (3, 0.00980392156862745),\n",
       " (4, 0.0196078431372549)]"
      ]
     },
     "execution_count": 98,
     "metadata": {},
     "output_type": "execute_result"
    }
   ],
   "source": [
    "# show the first five nodes of the out_degree centrality dictionary\n",
    "list(out_degree_cent.items())[:5]"
   ]
  },
  {
   "cell_type": "code",
   "execution_count": 99,
   "id": "b6dc815c",
   "metadata": {},
   "outputs": [
    {
     "data": {
      "text/plain": [
       "{10: 0.06862745098039216,\n",
       " 48: 0.06862745098039216,\n",
       " 1: 0.049019607843137254,\n",
       " 16: 0.049019607843137254,\n",
       " 24: 0.049019607843137254}"
      ]
     },
     "execution_count": 99,
     "metadata": {},
     "output_type": "execute_result"
    }
   ],
   "source": [
    "# get the top five nodes with higher out_degree centrality\n",
    "dict(sorted(out_degree_cent.items(), key = itemgetter(1), reverse = True)[:5])"
   ]
  },
  {
   "attachments": {},
   "cell_type": "markdown",
   "id": "310bcfce",
   "metadata": {},
   "source": [
    "#### PageRank \n",
    "__PageRank__ counts the number and quality of links to a node to determine a rough estimate of how important the node is. The underlying assumption is that more important nodes are likely to receive more edges from other nodes.\n",
    "\n",
    "Note: Undirected graphs will be converted to a directed graph with two directed edges for each undirected edge.\n",
    "\n",
    "More details here https://networkx.github.io/documentation/stable/reference/algorithms/generated/networkx.algorithms.link_analysis.pagerank_alg.pagerank.html"
   ]
  },
  {
   "cell_type": "code",
   "execution_count": 100,
   "id": "bb891d78",
   "metadata": {},
   "outputs": [],
   "source": [
    "pagerank_cent = nx.pagerank(D_sms, alpha=0.85, personalization=None, max_iter=100, tol=1e-06, nstart=None, weight='weight', dangling=None)\n"
   ]
  },
  {
   "cell_type": "code",
   "execution_count": 101,
   "id": "9654737e",
   "metadata": {},
   "outputs": [
    {
     "data": {
      "text/plain": [
       "[(0, 0.00845033579527927),\n",
       " (1, 0.03120404417124258),\n",
       " (2, 0.006209332046026926),\n",
       " (3, 0.007089109101817634),\n",
       " (4, 0.01360904293431955)]"
      ]
     },
     "execution_count": 101,
     "metadata": {},
     "output_type": "execute_result"
    }
   ],
   "source": [
    "# show the first five nodes of the pagerank centrality dictionary\n",
    "list(pagerank_cent.items())[:5]"
   ]
  },
  {
   "cell_type": "code",
   "execution_count": 102,
   "id": "4ff34c66",
   "metadata": {},
   "outputs": [
    {
     "data": {
      "text/plain": [
       "{16: 0.04604556872141617,\n",
       " 48: 0.04228585153155774,\n",
       " 1: 0.03120404417124258,\n",
       " 56: 0.025740561354495414,\n",
       " 82: 0.024451897906786473}"
      ]
     },
     "execution_count": 102,
     "metadata": {},
     "output_type": "execute_result"
    }
   ],
   "source": [
    "# get the top five nodes with higher pagerank centrality\n",
    "dict(sorted(pagerank_cent.items(), key = itemgetter(1), reverse = True)[:5])"
   ]
  },
  {
   "cell_type": "code",
   "execution_count": 103,
   "id": "d9ff0db3",
   "metadata": {},
   "outputs": [],
   "source": [
    "import matplotlib.pyplot as plt\n",
    "import seaborn as sns\n",
    "sns.set_theme()"
   ]
  },
  {
   "cell_type": "code",
   "execution_count": 104,
   "id": "3ae69530",
   "metadata": {},
   "outputs": [
    {
     "data": {
      "text/plain": [
       "28"
      ]
     },
     "execution_count": 104,
     "metadata": {},
     "output_type": "execute_result"
    }
   ],
   "source": [
    "D_sms.degree(weight='weight')[4]"
   ]
  },
  {
   "cell_type": "code",
   "execution_count": 105,
   "id": "40d839cc",
   "metadata": {},
   "outputs": [
    {
     "data": {
      "text/plain": [
       "[67, 87]"
      ]
     },
     "execution_count": 105,
     "metadata": {},
     "output_type": "execute_result"
    }
   ],
   "source": [
    "[node for node in nx.neighbors(D_sms, n=4)]"
   ]
  },
  {
   "attachments": {},
   "cell_type": "markdown",
   "id": "15fbf47a",
   "metadata": {},
   "source": [
    "##### Correlation of centrality measures"
   ]
  },
  {
   "cell_type": "code",
   "execution_count": 106,
   "id": "fc993d28",
   "metadata": {},
   "outputs": [],
   "source": [
    "nodelist_cent = pd.DataFrame()\n",
    "nodelist_cent['degree'] = degree_cent.values()\n",
    "nodelist_cent['in_degree'] = in_degree_cent.values()\n",
    "nodelist_cent['out_degree'] = out_degree_cent.values()\n",
    "nodelist_cent['pagerank'] = pagerank_cent.values()"
   ]
  },
  {
   "cell_type": "code",
   "execution_count": 107,
   "id": "22d244fe",
   "metadata": {},
   "outputs": [
    {
     "data": {
      "text/html": [
       "<div>\n",
       "<style scoped>\n",
       "    .dataframe tbody tr th:only-of-type {\n",
       "        vertical-align: middle;\n",
       "    }\n",
       "\n",
       "    .dataframe tbody tr th {\n",
       "        vertical-align: top;\n",
       "    }\n",
       "\n",
       "    .dataframe thead th {\n",
       "        text-align: right;\n",
       "    }\n",
       "</style>\n",
       "<table border=\"1\" class=\"dataframe\">\n",
       "  <thead>\n",
       "    <tr style=\"text-align: right;\">\n",
       "      <th></th>\n",
       "      <th>degree</th>\n",
       "      <th>in_degree</th>\n",
       "      <th>out_degree</th>\n",
       "      <th>pagerank</th>\n",
       "    </tr>\n",
       "  </thead>\n",
       "  <tbody>\n",
       "    <tr>\n",
       "      <th>degree</th>\n",
       "      <td>1.000000</td>\n",
       "      <td>0.936087</td>\n",
       "      <td>0.951642</td>\n",
       "      <td>0.670748</td>\n",
       "    </tr>\n",
       "    <tr>\n",
       "      <th>in_degree</th>\n",
       "      <td>0.936087</td>\n",
       "      <td>1.000000</td>\n",
       "      <td>0.782753</td>\n",
       "      <td>0.694369</td>\n",
       "    </tr>\n",
       "    <tr>\n",
       "      <th>out_degree</th>\n",
       "      <td>0.951642</td>\n",
       "      <td>0.782753</td>\n",
       "      <td>1.000000</td>\n",
       "      <td>0.580243</td>\n",
       "    </tr>\n",
       "    <tr>\n",
       "      <th>pagerank</th>\n",
       "      <td>0.670748</td>\n",
       "      <td>0.694369</td>\n",
       "      <td>0.580243</td>\n",
       "      <td>1.000000</td>\n",
       "    </tr>\n",
       "  </tbody>\n",
       "</table>\n",
       "</div>"
      ],
      "text/plain": [
       "              degree  in_degree  out_degree  pagerank\n",
       "degree      1.000000   0.936087    0.951642  0.670748\n",
       "in_degree   0.936087   1.000000    0.782753  0.694369\n",
       "out_degree  0.951642   0.782753    1.000000  0.580243\n",
       "pagerank    0.670748   0.694369    0.580243  1.000000"
      ]
     },
     "execution_count": 107,
     "metadata": {},
     "output_type": "execute_result"
    }
   ],
   "source": [
    "nodelist_cent.corr()"
   ]
  },
  {
   "cell_type": "code",
   "execution_count": 108,
   "id": "489806c4",
   "metadata": {},
   "outputs": [],
   "source": [
    "data = (1 - nodelist_cent.corr()).values"
   ]
  },
  {
   "cell_type": "code",
   "execution_count": 109,
   "id": "b2226a7a",
   "metadata": {},
   "outputs": [],
   "source": [
    "from sklearn.manifold import MDS"
   ]
  },
  {
   "cell_type": "code",
   "execution_count": 110,
   "id": "fc540fc9",
   "metadata": {},
   "outputs": [],
   "source": [
    "mds = MDS(n_components=2, random_state=42, dissimilarity='precomputed')\n",
    "pos = mds.fit(data).embedding_"
   ]
  },
  {
   "cell_type": "code",
   "execution_count": 111,
   "id": "be5c5931",
   "metadata": {},
   "outputs": [
    {
     "data": {
      "image/png": "[encoded data removed]",
      "text/plain": [
       "<Figure size 432x288 with 1 Axes>"
      ]
     },
     "metadata": {},
     "output_type": "display_data"
    }
   ],
   "source": [
    "plt.scatter(pos[:, 0], pos[:, 1])\n",
    "for i in range(0, len(nodelist_cent.columns)):\n",
    "    plt.text(pos[i, 0], pos[i, 1], nodelist_cent.columns[i])"
   ]
  },
  {
   "attachments": {},
   "cell_type": "markdown",
   "id": "5dea20ce",
   "metadata": {},
   "source": [
    "### Exercise 2: Add closeness and betweenness centralities, then update the correlation analysis\n",
    "\n",
    "__Closeness centrality__ of a node _u_ is the reciprocal of the average shortest path distance to _u_ over all _n-1_ reachable nodes. \n",
    "\n",
    "`closeness_centrality(G, u=None, distance=None)` where `u` is node for which centrality should be calculated and `distance` edge attribute name that should be used to calculate distance in shortest pathes.\n",
    "\n",
    "__Betweenness centrality__ of a node _v_ is the sum of the fraction of all-pairs shortest paths that pass through _v_.\n",
    "\n",
    "`betweenness_centrality(G, k=None, normalized=True, weight=None, endpoints=False, seed=None)` where `k` size of random samples to estimate betweenness, `weight` is the name of the attribute that should be used as distance metric and `seed` is random number generation state. \n",
    "\n",
    "More detail here https://networkx.github.io/documentation/stable/reference/algorithms/generated/networkx.algorithms.centrality.betweenness_centrality.html\n"
   ]
  },
  {
   "cell_type": "code",
   "execution_count": 112,
   "id": "9e378f0a",
   "metadata": {},
   "outputs": [],
   "source": [
    "closeness_cent = nx.closeness_centrality(D_sms, distance = None)"
   ]
  },
  {
   "cell_type": "code",
   "execution_count": 113,
   "id": "52d64ef8",
   "metadata": {},
   "outputs": [],
   "source": [
    "betweenness_cent = nx.betweenness_centrality(D_sms, normalized=True)"
   ]
  },
  {
   "cell_type": "code",
   "execution_count": 114,
   "id": "4e3cf78e",
   "metadata": {},
   "outputs": [],
   "source": [
    "nodelist_cent['closeness'] = closeness_cent.values()\n",
    "nodelist_cent['betweenness'] = betweenness_cent.values()"
   ]
  },
  {
   "cell_type": "code",
   "execution_count": 115,
   "id": "a4241211",
   "metadata": {},
   "outputs": [
    {
     "data": {
      "text/html": [
       "<div>\n",
       "<style scoped>\n",
       "    .dataframe tbody tr th:only-of-type {\n",
       "        vertical-align: middle;\n",
       "    }\n",
       "\n",
       "    .dataframe tbody tr th {\n",
       "        vertical-align: top;\n",
       "    }\n",
       "\n",
       "    .dataframe thead th {\n",
       "        text-align: right;\n",
       "    }\n",
       "</style>\n",
       "<table border=\"1\" class=\"dataframe\">\n",
       "  <thead>\n",
       "    <tr style=\"text-align: right;\">\n",
       "      <th></th>\n",
       "      <th>degree</th>\n",
       "      <th>in_degree</th>\n",
       "      <th>out_degree</th>\n",
       "      <th>pagerank</th>\n",
       "      <th>closeness</th>\n",
       "      <th>betweenness</th>\n",
       "    </tr>\n",
       "  </thead>\n",
       "  <tbody>\n",
       "    <tr>\n",
       "      <th>degree</th>\n",
       "      <td>1.000000</td>\n",
       "      <td>0.936087</td>\n",
       "      <td>0.951642</td>\n",
       "      <td>0.670748</td>\n",
       "      <td>0.433721</td>\n",
       "      <td>0.707088</td>\n",
       "    </tr>\n",
       "    <tr>\n",
       "      <th>in_degree</th>\n",
       "      <td>0.936087</td>\n",
       "      <td>1.000000</td>\n",
       "      <td>0.782753</td>\n",
       "      <td>0.694369</td>\n",
       "      <td>0.501699</td>\n",
       "      <td>0.717419</td>\n",
       "    </tr>\n",
       "    <tr>\n",
       "      <th>out_degree</th>\n",
       "      <td>0.951642</td>\n",
       "      <td>0.782753</td>\n",
       "      <td>1.000000</td>\n",
       "      <td>0.580243</td>\n",
       "      <td>0.329171</td>\n",
       "      <td>0.624405</td>\n",
       "    </tr>\n",
       "    <tr>\n",
       "      <th>pagerank</th>\n",
       "      <td>0.670748</td>\n",
       "      <td>0.694369</td>\n",
       "      <td>0.580243</td>\n",
       "      <td>1.000000</td>\n",
       "      <td>0.290625</td>\n",
       "      <td>0.517066</td>\n",
       "    </tr>\n",
       "    <tr>\n",
       "      <th>closeness</th>\n",
       "      <td>0.433721</td>\n",
       "      <td>0.501699</td>\n",
       "      <td>0.329171</td>\n",
       "      <td>0.290625</td>\n",
       "      <td>1.000000</td>\n",
       "      <td>0.531882</td>\n",
       "    </tr>\n",
       "    <tr>\n",
       "      <th>betweenness</th>\n",
       "      <td>0.707088</td>\n",
       "      <td>0.717419</td>\n",
       "      <td>0.624405</td>\n",
       "      <td>0.517066</td>\n",
       "      <td>0.531882</td>\n",
       "      <td>1.000000</td>\n",
       "    </tr>\n",
       "  </tbody>\n",
       "</table>\n",
       "</div>"
      ],
      "text/plain": [
       "               degree  in_degree  out_degree  pagerank  closeness  betweenness\n",
       "degree       1.000000   0.936087    0.951642  0.670748   0.433721     0.707088\n",
       "in_degree    0.936087   1.000000    0.782753  0.694369   0.501699     0.717419\n",
       "out_degree   0.951642   0.782753    1.000000  0.580243   0.329171     0.624405\n",
       "pagerank     0.670748   0.694369    0.580243  1.000000   0.290625     0.517066\n",
       "closeness    0.433721   0.501699    0.329171  0.290625   1.000000     0.531882\n",
       "betweenness  0.707088   0.717419    0.624405  0.517066   0.531882     1.000000"
      ]
     },
     "execution_count": 115,
     "metadata": {},
     "output_type": "execute_result"
    }
   ],
   "source": [
    "nodelist_cent.corr()"
   ]
  },
  {
   "cell_type": "code",
   "execution_count": 116,
   "id": "689cad46",
   "metadata": {},
   "outputs": [],
   "source": [
    "new_data = (1 - nodelist_cent.corr()).values"
   ]
  },
  {
   "cell_type": "code",
   "execution_count": 117,
   "id": "7bbd8761",
   "metadata": {},
   "outputs": [],
   "source": [
    "mds = MDS(n_components=2, random_state=42, dissimilarity='precomputed')\n",
    "pos = mds.fit(new_data).embedding_"
   ]
  },
  {
   "cell_type": "code",
   "execution_count": 118,
   "id": "1e9ca228",
   "metadata": {},
   "outputs": [
    {
     "data": {
      "image/png": "[encoded data removed]",
      "text/plain": [
       "<Figure size 432x288 with 1 Axes>"
      ]
     },
     "metadata": {},
     "output_type": "display_data"
    }
   ],
   "source": [
    "plt.scatter(pos[:, 0], pos[:, 1])\n",
    "for i in range(0, len(nodelist_cent.columns)):\n",
    "    plt.text(pos[i, 0], pos[i, 1], nodelist_cent.columns[i])"
   ]
  },
  {
   "attachments": {},
   "cell_type": "markdown",
   "id": "dd9f7c58",
   "metadata": {},
   "source": [
    "### Community detection"
   ]
  },
  {
   "attachments": {},
   "cell_type": "markdown",
   "id": "3d4aee9e",
   "metadata": {},
   "source": [
    "For community detection, we move to networks from our bluetooth exercises."
   ]
  },
  {
   "cell_type": "code",
   "execution_count": 121,
   "id": "c129f7ea",
   "metadata": {},
   "outputs": [],
   "source": [
    "G_bt_snapshot1 = nx.read_gml('./data/G_bt_snapshot1.gml')\n"
   ]
  },
  {
   "cell_type": "code",
   "execution_count": 122,
   "id": "712f26d7",
   "metadata": {},
   "outputs": [],
   "source": [
    "from networkx.algorithms.community import louvain_communities"
   ]
  },
  {
   "cell_type": "code",
   "execution_count": 123,
   "id": "a7eb2ee6",
   "metadata": {},
   "outputs": [],
   "source": [
    "louvain_snapshot1 = louvain_communities(G=G_bt_snapshot1, weight='weight', seed=42)"
   ]
  },
  {
   "cell_type": "code",
   "execution_count": 124,
   "id": "484804f8",
   "metadata": {},
   "outputs": [],
   "source": [
    "def get_partition(communities):\n",
    "    return dict(sorted({node: community for community in range(len(communities)) for node in list(communities[community])}.items()))"
   ]
  },
  {
   "cell_type": "code",
   "execution_count": 125,
   "id": "25c06ce4",
   "metadata": {},
   "outputs": [
    {
     "data": {
      "text/plain": [
       "dict_values([4, 2, 5, 2, 14, 3, 0, 10, 0, 5, 17, 12, 4, 9, 22, 7, 15, 12, 19, 22, 4, 24, 5, 16, 5, 5, 6, 2, 9, 3, 7, 4, 5, 12, 12, 7, 23, 24, 4, 5, 4, 7, 2, 7, 13, 24, 29, 6, 5, 9, 11, 25, 5, 16, 12, 9, 12, 21, 22, 7, 4, 11, 11, 5, 5, 9, 5, 24, 10, 5, 10, 22, 15, 15, 12, 4, 4, 5, 26, 3, 15, 5, 22, 12, 9, 12, 4, 5, 12, 7, 9, 8, 2, 2, 11, 22, 5, 5, 2, 9, 4, 2, 24, 9, 5, 9, 10, 11, 11, 12, 2, 22, 9, 5, 12, 11, 12, 4, 20, 11, 13, 4, 18, 24, 24, 11, 22, 1, 28, 22, 2, 26, 2, 12, 11, 7, 14, 5, 2, 11, 22, 15, 4, 11, 5, 22, 11, 12, 2, 15, 16, 17, 7, 11, 4, 4, 4, 26, 18, 7, 2, 19, 5, 11, 11, 5, 15, 16, 20, 21, 4, 23, 9, 4, 12, 22, 7, 23, 2, 12, 24, 5, 15, 25, 5, 7, 5, 24, 7, 5, 24, 27, 7, 14, 7, 26, 7, 12, 9, 9, 5, 12, 22, 27, 4, 9, 12, 12, 28, 1, 2, 8, 29, 5, 12, 12, 9, 9, 12])"
      ]
     },
     "execution_count": 125,
     "metadata": {},
     "output_type": "execute_result"
    }
   ],
   "source": [
    "get_partition(louvain_snapshot1).values()"
   ]
  },
  {
   "cell_type": "code",
   "execution_count": 126,
   "id": "1f087568",
   "metadata": {},
   "outputs": [
    {
     "data": {
      "image/png": "[encoded data removed]",
      "text/plain": [
       "<Figure size 864x576 with 1 Axes>"
      ]
     },
     "metadata": {},
     "output_type": "display_data"
    }
   ],
   "source": [
    "plt.figure(figsize=(12,8))\n",
    "\n",
    "pos = nx.spring_layout(G_bt_snapshot1)\n",
    "\n",
    "cmap = plt.get_cmap('viridis', max(get_partition(louvain_snapshot1).values()) + 1)\n",
    "\n",
    "nx.draw_networkx_nodes(G_bt_snapshot1, pos, get_partition(louvain_snapshot1).keys(), node_size=40, cmap=cmap, node_color=list(get_partition(louvain_snapshot1).values()))\n",
    "nx.draw_networkx_edges(G_bt_snapshot1, pos, alpha=0.5)\n",
    "plt.axis('off')\n",
    "plt.savefig('./results/G_bt_snapshot1_darker_colors.png')\n",
    "plt.savefig('./results/G_bt_snapshot1_darker_colors.pdf')\n",
    "plt.show()\n"
   ]
  },
  {
   "cell_type": "code",
   "execution_count": 127,
   "id": "c6ca75da",
   "metadata": {},
   "outputs": [
    {
     "data": {
      "image/png": "[encoded data removed]",
      "text/plain": [
       "<Figure size 864x576 with 1 Axes>"
      ]
     },
     "metadata": {},
     "output_type": "display_data"
    }
   ],
   "source": [
    "community_id = [get_partition(louvain_snapshot1)[node] for node in G_bt_snapshot1.nodes()]\n",
    "pos = nx.spring_layout(G_bt_snapshot1)\n",
    "\n",
    "fig = plt.figure(figsize=(12,8))\n",
    "nx.draw(G_bt_snapshot1, pos, edge_color = ['silver'] * len(G_bt_snapshot1.edges()), \n",
    "        cmap = plt.cm.tab20, node_color = community_id, node_size = 40)\n",
    "\n",
    "plt.savefig('./results/G_bt_snapshot1_lighter_colors.png')\n",
    "plt.savefig('./results/G_bt_snapshot1_lighter_colors.pdf')"
   ]
  },
  {
   "attachments": {},
   "cell_type": "markdown",
   "id": "995e3fc8",
   "metadata": {},
   "source": [
    "### Exercise 3: Try Louvain method on the snapshot 4's graph"
   ]
  },
  {
   "attachments": {},
   "cell_type": "markdown",
   "id": "edcfd36e",
   "metadata": {},
   "source": [
    "Will add when we have snapshot 4 ready with attributes or pickle version.."
   ]
  },
  {
   "cell_type": "code",
   "execution_count": 128,
   "id": "b71ac6ad",
   "metadata": {},
   "outputs": [],
   "source": [
    "G_bt_snapshot4 = nx.read_gml('./data/G_bt_snapshot4.gml')\n",
    "                        "
   ]
  },
  {
   "cell_type": "code",
   "execution_count": 129,
   "id": "3e0ab9cf",
   "metadata": {},
   "outputs": [],
   "source": [
    "louvain_snapshot4 = louvain_communities(G=G_bt_snapshot4, weight='weight', seed=42)"
   ]
  },
  {
   "cell_type": "code",
   "execution_count": 130,
   "id": "cd8541a6",
   "metadata": {},
   "outputs": [
    {
     "data": {
      "image/png": "[encoded data removed]",
      "text/plain": [
       "<Figure size 864x576 with 1 Axes>"
      ]
     },
     "metadata": {},
     "output_type": "display_data"
    }
   ],
   "source": [
    "plt.figure(figsize=(12,8))\n",
    "\n",
    "pos = nx.spring_layout(G_bt_snapshot4)\n",
    "\n",
    "cmap = plt.get_cmap('viridis', max(get_partition(louvain_snapshot4).values()) + 1)\n",
    "\n",
    "nx.draw_networkx_nodes(G_bt_snapshot4, pos, get_partition(louvain_snapshot4).keys(), node_size=40, cmap=cmap, node_color=list(get_partition(louvain_snapshot4).values()))\n",
    "nx.draw_networkx_edges(G_bt_snapshot4, pos, alpha=0.5)\n",
    "plt.axis('off')\n",
    "plt.savefig('./results/G_bt_snapshot4_darker_colors.png')\n",
    "plt.savefig('./results/G_bt_snapshot4_darker_colors.pdf')\n",
    "plt.show()\n",
    "\n"
   ]
  },
  {
   "cell_type": "code",
   "execution_count": 131,
   "id": "6fda3383",
   "metadata": {},
   "outputs": [
    {
     "data": {
      "image/png": "[encoded data removed]",
      "text/plain": [
       "<Figure size 864x576 with 1 Axes>"
      ]
     },
     "metadata": {},
     "output_type": "display_data"
    }
   ],
   "source": [
    "community_id_snapshot4 = [get_partition(louvain_snapshot4)[node] for node in G_bt_snapshot4.nodes()]\n",
    "pos = nx.spring_layout(G_bt_snapshot4)\n",
    "\n",
    "fig = plt.figure(figsize=(12,8))\n",
    "nx.draw(G_bt_snapshot4, pos, edge_color = ['silver'] * len(G_bt_snapshot4.edges()), \n",
    "        cmap = plt.cm.tab20, node_color = community_id_snapshot4, node_size = 40)\n",
    "\n",
    "plt.savefig('./results/G_bt_snapshot4_lighter_colors.png')\n",
    "plt.savefig('./results/G_bt_snapshot4_lighter_colors.pdf')"
   ]
  },
  {
   "attachments": {},
   "cell_type": "markdown",
   "id": "f49deb68",
   "metadata": {},
   "source": [
    "### Homophily\n",
    "\n",
    "Assortativity helps analysing pattern of connections in networks. To analyze homophily (if people tend to connect to similar people), we can use attribute assortativity coefficient and attribute mixing matrix."
   ]
  },
  {
   "cell_type": "markdown",
   "id": "c12b040a",
   "metadata": {},
   "source": [
    "The sex categories are 0: male; 1: female; 2: unknown."
   ]
  },
  {
   "cell_type": "code",
   "execution_count": 132,
   "id": "5b78f81f",
   "metadata": {},
   "outputs": [
    {
     "data": {
      "text/plain": [
       "0.1427991611986741"
      ]
     },
     "execution_count": 132,
     "metadata": {},
     "output_type": "execute_result"
    }
   ],
   "source": [
    "nx.attribute_assortativity_coefficient(G=G_bt_snapshot1, attribute='sex')"
   ]
  },
  {
   "cell_type": "markdown",
   "id": "ee3c5ba9",
   "metadata": {},
   "source": []
  },
  {
   "cell_type": "code",
   "execution_count": 133,
   "id": "8d3dee34",
   "metadata": {},
   "outputs": [
    {
     "data": {
      "text/plain": [
       "array([[  0.,  13.,   8.],\n",
       "       [ 13., 566., 243.],\n",
       "       [  8., 243., 202.]])"
      ]
     },
     "execution_count": 133,
     "metadata": {},
     "output_type": "execute_result"
    }
   ],
   "source": [
    "nx.attribute_mixing_matrix(G=G_bt_snapshot1, attribute='sex', normalized=False)"
   ]
  },
  {
   "cell_type": "code",
   "execution_count": 134,
   "id": "184656e3",
   "metadata": {},
   "outputs": [],
   "source": [
    "from collections import Counter\n",
    "import numpy as np"
   ]
  },
  {
   "attachments": {},
   "cell_type": "markdown",
   "id": "6d14de6e",
   "metadata": {},
   "source": [
    "We will transform the cells in the attribute_mixing_matrix into densities and then divide by the overall network density to see where attribute mixing is stronger than expected. Note that categories (i.e, male, female, and unknown) have different sizes."
   ]
  },
  {
   "cell_type": "code",
   "execution_count": 135,
   "id": "3f3fc439",
   "metadata": {},
   "outputs": [],
   "source": [
    "def attribute_density_matrix(G, attribute):\n",
    "    l = [data[attribute] for v, data in G.nodes(data=True)]\n",
    "    counts = list(Counter(l).values())\n",
    "    a = np.empty(shape=(len(counts), len(counts)))\n",
    "    for i in range(len(counts)):\n",
    "        for j in range(len(counts)):\n",
    "            if i == j:\n",
    "                a[i, j] = counts[i] * (counts[j] - 1)\n",
    "            else:\n",
    "                a[i, j] = counts[i] * counts[j]\n",
    "    return nx.attribute_mixing_matrix(G=G, attribute=attribute, normalized=False) / a"
   ]
  },
  {
   "cell_type": "code",
   "execution_count": 136,
   "id": "582dc2e1",
   "metadata": {},
   "outputs": [],
   "source": [
    "p_bt = nx.density(G=G_bt_snapshot1)"
   ]
  },
  {
   "cell_type": "code",
   "execution_count": 137,
   "id": "858ae3d1",
   "metadata": {},
   "outputs": [
    {
     "data": {
      "text/plain": [
       "array([[0.0000e+00, 1.4000e-03, 8.9000e-03],\n",
       "       [1.4000e-03, 1.4040e-01, 6.3280e-01],\n",
       "       [8.9000e-03, 6.3280e-01, 6.7333e+00]])"
      ]
     },
     "execution_count": 137,
     "metadata": {},
     "output_type": "execute_result"
    }
   ],
   "source": [
    "p_bt_sex = attribute_density_matrix(G=G_bt_snapshot1, attribute='sex').round(4)\n",
    "p_bt_sex"
   ]
  },
  {
   "cell_type": "code",
   "execution_count": 138,
   "id": "fd691b8a",
   "metadata": {},
   "outputs": [
    {
     "data": {
      "text/plain": [
       "array([[0.0000e+00, 5.0000e-02, 3.3000e-01],\n",
       "       [5.0000e-02, 5.1700e+00, 2.3310e+01],\n",
       "       [3.3000e-01, 2.3310e+01, 2.4804e+02]])"
      ]
     },
     "execution_count": 138,
     "metadata": {},
     "output_type": "execute_result"
    }
   ],
   "source": [
    "(p_bt_sex / p_bt).round(2)"
   ]
  },
  {
   "cell_type": "code",
   "execution_count": null,
   "id": "3256cc39",
   "metadata": {},
   "outputs": [],
   "source": []
  }
 ],
 "metadata": {
  "kernelspec": {
   "display_name": "Python 3 (ipykernel)",
   "language": "python",
   "name": "python3"
  },
  "language_info": {
   "codemirror_mode": {
    "name": "ipython",
    "version": 3
   },
   "file_extension": ".py",
   "mimetype": "text/x-python",
   "name": "python",
   "nbconvert_exporter": "python",
   "pygments_lexer": "ipython3",
   "version": "3.8.8"
  }
 },
 "nbformat": 4,
 "nbformat_minor": 5
}
